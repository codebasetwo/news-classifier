{
 "cells": [
  {
   "cell_type": "code",
   "execution_count": 1,
   "id": "a68b51fa-2a1a-48a8-84de-8ec16f578845",
   "metadata": {
    "scrolled": true,
    "tags": []
   },
   "outputs": [
    {
     "name": "stderr",
     "output_type": "stream",
     "text": [
      "2025-02-11 14:00:35.699465: E external/local_xla/xla/stream_executor/cuda/cuda_fft.cc:477] Unable to register cuFFT factory: Attempting to register factory for plugin cuFFT when one has already been registered\n",
      "WARNING: All log messages before absl::InitializeLog() is called are written to STDERR\n",
      "E0000 00:00:1739278836.295898   27348 cuda_dnn.cc:8310] Unable to register cuDNN factory: Attempting to register factory for plugin cuDNN when one has already been registered\n",
      "E0000 00:00:1739278836.392272   27348 cuda_blas.cc:1418] Unable to register cuBLAS factory: Attempting to register factory for plugin cuBLAS when one has already been registered\n",
      "2025-02-11 14:00:37.499014: I tensorflow/core/platform/cpu_feature_guard.cc:210] This TensorFlow binary is optimized to use available CPU instructions in performance-critical operations.\n",
      "To enable the following instructions: AVX2 FMA, in other operations, rebuild TensorFlow with the appropriate compiler flags.\n"
     ]
    }
   ],
   "source": [
    "import os\n",
    "os.environ['TF_USE_LEGACY_KERAS'] = '1'\n",
    "import re\n",
    "import sys; sys.path.append(\"..\")\n",
    "sys.path.append(os.path.abspath(os.path.join('..', 'newsfeed')))\n",
    "from pathlib import Path\n",
    "\n",
    "import numpy as np\n",
    "import pandas as pd\n",
    "import transformers \n",
    "import  tensorflow as tf\n",
    "import matplotlib.pyplot as plt\n",
    "from sklearn.model_selection import train_test_split\n",
    "from sklearn.metrics import classification_report, precision_recall_fscore_support\n",
    "\n",
    "%matplotlib inline"
   ]
  },
  {
   "cell_type": "code",
   "execution_count": 7,
   "id": "15449f3c-63b8-4dd9-8130-a62bebc6bece",
   "metadata": {},
   "outputs": [],
   "source": [
    "#  Unzip file.\n",
    "import zipfile\n",
    "DATASET_BASE_PATH = \"../datasets/\"\n",
    "ZIP_lOC = Path(DATASET_BASE_PATH, \"news-category-dataset.zip\")\n",
    "\n",
    "def unzip_file(path_to_zip_file:Path, directory_to_extract:Path = DATASET_BASE_PATH):\n",
    "    with zipfile.ZipFile(path_to_zip_file, 'r') as zip_ref:\n",
    "        zip_ref.extractall(directory_to_extract)\n",
    "\n",
    "\n",
    "unzip_file(ZIP_lOC)"
   ]
  },
  {
   "cell_type": "code",
   "execution_count": 8,
   "id": "c06295f3-6450-4e65-8041-ef3d49f7d902",
   "metadata": {
    "scrolled": true
   },
   "outputs": [],
   "source": [
    "# Laod json file.\n",
    "import json\n",
    "FILE_NAME = \"news_category_dataset.json\"\n",
    "JSON_FILE = Path(DATASET_BASE_PATH, FILE_NAME)\n",
    "\n",
    "def load_json(path_to_json_file: Path):\n",
    "    with open(path_to_json_file, 'rb') as file:\n",
    "        data = json.load(file)\n",
    "    return data"
   ]
  },
  {
   "cell_type": "code",
   "execution_count": 9,
   "id": "2f3e2962-c8fc-40e1-8bbd-5888ac8c3834",
   "metadata": {},
   "outputs": [],
   "source": [
    "data = load_json(JSON_FILE)"
   ]
  },
  {
   "cell_type": "code",
   "execution_count": 10,
   "id": "b7128545-0a8c-4cfc-8156-3a9eb5682f63",
   "metadata": {},
   "outputs": [
    {
     "data": {
      "text/html": [
       "<div>\n",
       "<style scoped>\n",
       "    .dataframe tbody tr th:only-of-type {\n",
       "        vertical-align: middle;\n",
       "    }\n",
       "\n",
       "    .dataframe tbody tr th {\n",
       "        vertical-align: top;\n",
       "    }\n",
       "\n",
       "    .dataframe thead th {\n",
       "        text-align: right;\n",
       "    }\n",
       "</style>\n",
       "<table border=\"1\" class=\"dataframe\">\n",
       "  <thead>\n",
       "    <tr style=\"text-align: right;\">\n",
       "      <th></th>\n",
       "      <th>link</th>\n",
       "      <th>headline</th>\n",
       "      <th>category</th>\n",
       "      <th>short_description</th>\n",
       "      <th>authors</th>\n",
       "      <th>date</th>\n",
       "    </tr>\n",
       "  </thead>\n",
       "  <tbody>\n",
       "    <tr>\n",
       "      <th>0</th>\n",
       "      <td>https://www.huffpost.com/entry/covid-boosters-...</td>\n",
       "      <td>Over 4 Million Americans Roll Up Sleeves For O...</td>\n",
       "      <td>NEWS &amp; POLITICS</td>\n",
       "      <td>Health experts said it is too early to predict...</td>\n",
       "      <td>Carla K. Johnson, AP</td>\n",
       "      <td>2022-09-23</td>\n",
       "    </tr>\n",
       "    <tr>\n",
       "      <th>1</th>\n",
       "      <td>https://www.huffpost.com/entry/american-airlin...</td>\n",
       "      <td>American Airlines Flyer Charged, Banned For Li...</td>\n",
       "      <td>NEWS &amp; POLITICS</td>\n",
       "      <td>He was subdued by passengers and crew when he ...</td>\n",
       "      <td>Mary Papenfuss</td>\n",
       "      <td>2022-09-23</td>\n",
       "    </tr>\n",
       "    <tr>\n",
       "      <th>2</th>\n",
       "      <td>https://www.huffpost.com/entry/funniest-tweets...</td>\n",
       "      <td>23 Of The Funniest Tweets About Cats And Dogs ...</td>\n",
       "      <td>ENTERTAINMENT</td>\n",
       "      <td>\"Until you have a dog you don't understand wha...</td>\n",
       "      <td>Elyse Wanshel</td>\n",
       "      <td>2022-09-23</td>\n",
       "    </tr>\n",
       "    <tr>\n",
       "      <th>3</th>\n",
       "      <td>https://www.huffpost.com/entry/funniest-parent...</td>\n",
       "      <td>The Funniest Tweets From Parents This Week (Se...</td>\n",
       "      <td>PARENTING</td>\n",
       "      <td>\"Accidentally put grown-up toothpaste on my to...</td>\n",
       "      <td>Caroline Bologna</td>\n",
       "      <td>2022-09-23</td>\n",
       "    </tr>\n",
       "    <tr>\n",
       "      <th>4</th>\n",
       "      <td>https://www.huffpost.com/entry/amy-cooper-lose...</td>\n",
       "      <td>Woman Who Called Cops On Black Bird-Watcher Lo...</td>\n",
       "      <td>NEWS &amp; POLITICS</td>\n",
       "      <td>Amy Cooper accused investment firm Franklin Te...</td>\n",
       "      <td>Nina Golgowski</td>\n",
       "      <td>2022-09-22</td>\n",
       "    </tr>\n",
       "  </tbody>\n",
       "</table>\n",
       "</div>"
      ],
      "text/plain": [
       "                                                link  \\\n",
       "0  https://www.huffpost.com/entry/covid-boosters-...   \n",
       "1  https://www.huffpost.com/entry/american-airlin...   \n",
       "2  https://www.huffpost.com/entry/funniest-tweets...   \n",
       "3  https://www.huffpost.com/entry/funniest-parent...   \n",
       "4  https://www.huffpost.com/entry/amy-cooper-lose...   \n",
       "\n",
       "                                            headline         category  \\\n",
       "0  Over 4 Million Americans Roll Up Sleeves For O...  NEWS & POLITICS   \n",
       "1  American Airlines Flyer Charged, Banned For Li...  NEWS & POLITICS   \n",
       "2  23 Of The Funniest Tweets About Cats And Dogs ...    ENTERTAINMENT   \n",
       "3  The Funniest Tweets From Parents This Week (Se...        PARENTING   \n",
       "4  Woman Who Called Cops On Black Bird-Watcher Lo...  NEWS & POLITICS   \n",
       "\n",
       "                                   short_description               authors  \\\n",
       "0  Health experts said it is too early to predict...  Carla K. Johnson, AP   \n",
       "1  He was subdued by passengers and crew when he ...        Mary Papenfuss   \n",
       "2  \"Until you have a dog you don't understand wha...         Elyse Wanshel   \n",
       "3  \"Accidentally put grown-up toothpaste on my to...      Caroline Bologna   \n",
       "4  Amy Cooper accused investment firm Franklin Te...        Nina Golgowski   \n",
       "\n",
       "         date  \n",
       "0  2022-09-23  \n",
       "1  2022-09-23  \n",
       "2  2022-09-23  \n",
       "3  2022-09-23  \n",
       "4  2022-09-22  "
      ]
     },
     "execution_count": 10,
     "metadata": {},
     "output_type": "execute_result"
    }
   ],
   "source": [
    "# Read in as DataFrame\n",
    "df = pd.DataFrame(data)\n",
    "\n",
    "df.head()"
   ]
  },
  {
   "cell_type": "code",
   "execution_count": 11,
   "id": "91ddab1c-8843-40b9-990f-a9d733db285e",
   "metadata": {},
   "outputs": [],
   "source": [
    "# Get holdout data\n",
    "seed = 1234\n",
    "test_size = 0.3\n",
    "train, val = train_test_split(df,test_size=test_size, random_state=seed, shuffle=True, stratify=df.category)"
   ]
  },
  {
   "cell_type": "code",
   "execution_count": 12,
   "id": "51c1645a-9290-4e78-8572-e5384d0a8556",
   "metadata": {},
   "outputs": [
    {
     "name": "stdout",
     "output_type": "stream",
     "text": [
      "92424\n",
      "92425.66666666666\n"
     ]
    }
   ],
   "source": [
    "print (len(train))\n",
    "print (len(val) * (1- test_size) / test_size)"
   ]
  },
  {
   "cell_type": "code",
   "execution_count": 13,
   "id": "931de6ed-cd8f-455e-ba6a-b218ec38a9f8",
   "metadata": {},
   "outputs": [],
   "source": [
    "test_size = 0.5\n",
    "val, holdout = train_test_split(val, test_size=test_size, random_state=seed, shuffle=True, stratify=val.category)"
   ]
  },
  {
   "cell_type": "code",
   "execution_count": 14,
   "id": "21d0ec0e-683f-418a-9b77-f1c04d2e87c5",
   "metadata": {},
   "outputs": [
    {
     "name": "stdout",
     "output_type": "stream",
     "text": [
      "19805\n",
      "19806\n"
     ]
    }
   ],
   "source": [
    "print (len(val))\n",
    "print (len(holdout) )"
   ]
  },
  {
   "cell_type": "code",
   "execution_count": 15,
   "id": "c55f5dfb-3594-4f66-8132-c51a5ee2c228",
   "metadata": {},
   "outputs": [],
   "source": [
    "holdout.reset_index(drop=True, inplace= True)"
   ]
  },
  {
   "cell_type": "code",
   "execution_count": 16,
   "id": "dbdbdad4-76a5-41cb-af91-28fed90f0025",
   "metadata": {},
   "outputs": [],
   "source": [
    "holdout.to_csv(Path(DATASET_BASE_PATH,\"holdout.csv\" ), index=False)"
   ]
  },
  {
   "cell_type": "code",
   "execution_count": 17,
   "id": "89ccb305-2ba8-4771-8891-912c9a7fa450",
   "metadata": {},
   "outputs": [],
   "source": [
    "df = pd.concat([train, val])"
   ]
  },
  {
   "cell_type": "code",
   "execution_count": 18,
   "id": "78fd520c-3899-478d-8490-466aa57d081c",
   "metadata": {},
   "outputs": [],
   "source": [
    "df.reset_index(drop=True, inplace= True)"
   ]
  },
  {
   "cell_type": "code",
   "execution_count": 19,
   "id": "66337d3a-cf29-488e-9841-8f37b1aba209",
   "metadata": {},
   "outputs": [],
   "source": [
    "df.to_csv(Path(DATASET_BASE_PATH,\"train.csv\" ), index=False)"
   ]
  },
  {
   "cell_type": "code",
   "execution_count": 20,
   "id": "2e5d1e58-9c36-4d31-8261-0f0930b59a99",
   "metadata": {},
   "outputs": [
    {
     "data": {
      "text/html": [
       "<div>\n",
       "<style scoped>\n",
       "    .dataframe tbody tr th:only-of-type {\n",
       "        vertical-align: middle;\n",
       "    }\n",
       "\n",
       "    .dataframe tbody tr th {\n",
       "        vertical-align: top;\n",
       "    }\n",
       "\n",
       "    .dataframe thead th {\n",
       "        text-align: right;\n",
       "    }\n",
       "</style>\n",
       "<table border=\"1\" class=\"dataframe\">\n",
       "  <thead>\n",
       "    <tr style=\"text-align: right;\">\n",
       "      <th></th>\n",
       "      <th>link</th>\n",
       "      <th>headline</th>\n",
       "      <th>category</th>\n",
       "      <th>short_description</th>\n",
       "      <th>authors</th>\n",
       "      <th>date</th>\n",
       "    </tr>\n",
       "  </thead>\n",
       "  <tbody>\n",
       "    <tr>\n",
       "      <th>0</th>\n",
       "      <td>https://www.huffingtonpost.com/entry/tiffany-h...</td>\n",
       "      <td>Tiffany Haddish Has Dating Tips For Guys, And ...</td>\n",
       "      <td>ENTERTAINMENT</td>\n",
       "      <td>The \"Girls Trip\" actress gives the definitive ...</td>\n",
       "      <td>Ron Dicker</td>\n",
       "      <td>2018-03-27</td>\n",
       "    </tr>\n",
       "    <tr>\n",
       "      <th>1</th>\n",
       "      <td>https://www.huffingtonpost.com/entry/samantha-...</td>\n",
       "      <td>Samantha Bee Sums Up Ivanka Trump's New White ...</td>\n",
       "      <td>ENTERTAINMENT</td>\n",
       "      <td>The late night host examined how President Tru...</td>\n",
       "      <td>Lee Moran</td>\n",
       "      <td>2017-04-06</td>\n",
       "    </tr>\n",
       "    <tr>\n",
       "      <th>2</th>\n",
       "      <td>https://www.huffingtonpost.com/entry/the-artis...</td>\n",
       "      <td>The Artist Behind Controversial Michael Brown ...</td>\n",
       "      <td>ARTS, CULTURE &amp; TRAVEL</td>\n",
       "      <td>How should we respond when a white artist appr...</td>\n",
       "      <td>Priscilla Frank</td>\n",
       "      <td>2015-07-16</td>\n",
       "    </tr>\n",
       "    <tr>\n",
       "      <th>3</th>\n",
       "      <td>https://www.huffingtonpost.com/entry/whats-the...</td>\n",
       "      <td>What's the Exit Strategy?</td>\n",
       "      <td>NEWS &amp; POLITICS</td>\n",
       "      <td>What's the Exit Strategy?</td>\n",
       "      <td>Mike Smith, ContributorLas Vegas Sun’s editori...</td>\n",
       "      <td>2014-09-27</td>\n",
       "    </tr>\n",
       "    <tr>\n",
       "      <th>4</th>\n",
       "      <td>https://www.huffingtonpost.com/entry/bill-obri...</td>\n",
       "      <td>Bill O'Brien, Texans Reach Agreement For Coach...</td>\n",
       "      <td>SPORTS &amp; WELLNESS</td>\n",
       "      <td>Kubiak took over after Capers was fired follow...</td>\n",
       "      <td></td>\n",
       "      <td>2014-01-01</td>\n",
       "    </tr>\n",
       "  </tbody>\n",
       "</table>\n",
       "</div>"
      ],
      "text/plain": [
       "                                                link  \\\n",
       "0  https://www.huffingtonpost.com/entry/tiffany-h...   \n",
       "1  https://www.huffingtonpost.com/entry/samantha-...   \n",
       "2  https://www.huffingtonpost.com/entry/the-artis...   \n",
       "3  https://www.huffingtonpost.com/entry/whats-the...   \n",
       "4  https://www.huffingtonpost.com/entry/bill-obri...   \n",
       "\n",
       "                                            headline                category  \\\n",
       "0  Tiffany Haddish Has Dating Tips For Guys, And ...           ENTERTAINMENT   \n",
       "1  Samantha Bee Sums Up Ivanka Trump's New White ...           ENTERTAINMENT   \n",
       "2  The Artist Behind Controversial Michael Brown ...  ARTS, CULTURE & TRAVEL   \n",
       "3                          What's the Exit Strategy?         NEWS & POLITICS   \n",
       "4  Bill O'Brien, Texans Reach Agreement For Coach...       SPORTS & WELLNESS   \n",
       "\n",
       "                                   short_description  \\\n",
       "0  The \"Girls Trip\" actress gives the definitive ...   \n",
       "1  The late night host examined how President Tru...   \n",
       "2  How should we respond when a white artist appr...   \n",
       "3                          What's the Exit Strategy?   \n",
       "4  Kubiak took over after Capers was fired follow...   \n",
       "\n",
       "                                             authors        date  \n",
       "0                                         Ron Dicker  2018-03-27  \n",
       "1                                          Lee Moran  2017-04-06  \n",
       "2                                    Priscilla Frank  2015-07-16  \n",
       "3  Mike Smith, ContributorLas Vegas Sun’s editori...  2014-09-27  \n",
       "4                                                     2014-01-01  "
      ]
     },
     "execution_count": 20,
     "metadata": {},
     "output_type": "execute_result"
    }
   ],
   "source": [
    "df.head()"
   ]
  },
  {
   "cell_type": "code",
   "execution_count": 21,
   "id": "3cf84f61-ebce-4612-b658-e90a8ebd3d4a",
   "metadata": {},
   "outputs": [
    {
     "data": {
      "text/plain": [
       "category\n",
       "NEWS & POLITICS           39543\n",
       "SPORTS & WELLNESS         25258\n",
       "ENTERTAINMENT             19347\n",
       "ARTS, CULTURE & TRAVEL    11749\n",
       "PARENTING                 10834\n",
       "EDUCATION                  5498\n",
       "Name: count, dtype: int64"
      ]
     },
     "execution_count": 21,
     "metadata": {},
     "output_type": "execute_result"
    }
   ],
   "source": [
    "df.category.value_counts()"
   ]
  },
  {
   "cell_type": "code",
   "execution_count": 22,
   "id": "802df5f4-8b97-4bb1-a9a0-a7f7e8c3be16",
   "metadata": {},
   "outputs": [
    {
     "name": "stdout",
     "output_type": "stream",
     "text": [
      "<class 'pandas.core.frame.DataFrame'>\n",
      "RangeIndex: 112229 entries, 0 to 112228\n",
      "Data columns (total 6 columns):\n",
      " #   Column             Non-Null Count   Dtype \n",
      "---  ------             --------------   ----- \n",
      " 0   link               112229 non-null  object\n",
      " 1   headline           112229 non-null  object\n",
      " 2   category           112229 non-null  object\n",
      " 3   short_description  112229 non-null  object\n",
      " 4   authors            112229 non-null  object\n",
      " 5   date               112229 non-null  object\n",
      "dtypes: object(6)\n",
      "memory usage: 5.1+ MB\n"
     ]
    }
   ],
   "source": [
    "df.info()"
   ]
  },
  {
   "cell_type": "code",
   "execution_count": 23,
   "id": "8e04a914-7063-4aa3-ae74-d16510d47799",
   "metadata": {},
   "outputs": [
    {
     "data": {
      "text/html": [
       "<div>\n",
       "<style scoped>\n",
       "    .dataframe tbody tr th:only-of-type {\n",
       "        vertical-align: middle;\n",
       "    }\n",
       "\n",
       "    .dataframe tbody tr th {\n",
       "        vertical-align: top;\n",
       "    }\n",
       "\n",
       "    .dataframe thead th {\n",
       "        text-align: right;\n",
       "    }\n",
       "</style>\n",
       "<table border=\"1\" class=\"dataframe\">\n",
       "  <thead>\n",
       "    <tr style=\"text-align: right;\">\n",
       "      <th></th>\n",
       "      <th>link</th>\n",
       "      <th>headline</th>\n",
       "      <th>category</th>\n",
       "      <th>short_description</th>\n",
       "      <th>authors</th>\n",
       "      <th>date</th>\n",
       "    </tr>\n",
       "  </thead>\n",
       "  <tbody>\n",
       "    <tr>\n",
       "      <th>count</th>\n",
       "      <td>112229</td>\n",
       "      <td>112229</td>\n",
       "      <td>112229</td>\n",
       "      <td>112229</td>\n",
       "      <td>112229</td>\n",
       "      <td>112229</td>\n",
       "    </tr>\n",
       "    <tr>\n",
       "      <th>unique</th>\n",
       "      <td>112214</td>\n",
       "      <td>111796</td>\n",
       "      <td>6</td>\n",
       "      <td>100764</td>\n",
       "      <td>18137</td>\n",
       "      <td>3889</td>\n",
       "    </tr>\n",
       "    <tr>\n",
       "      <th>top</th>\n",
       "      <td>https://www.huffingtonpost.comhttp://www.theda...</td>\n",
       "      <td>Sunday Roundup</td>\n",
       "      <td>NEWS &amp; POLITICS</td>\n",
       "      <td></td>\n",
       "      <td></td>\n",
       "      <td>2014-11-05</td>\n",
       "    </tr>\n",
       "    <tr>\n",
       "      <th>freq</th>\n",
       "      <td>2</td>\n",
       "      <td>75</td>\n",
       "      <td>39543</td>\n",
       "      <td>10348</td>\n",
       "      <td>17740</td>\n",
       "      <td>85</td>\n",
       "    </tr>\n",
       "  </tbody>\n",
       "</table>\n",
       "</div>"
      ],
      "text/plain": [
       "                                                     link        headline  \\\n",
       "count                                              112229          112229   \n",
       "unique                                             112214          111796   \n",
       "top     https://www.huffingtonpost.comhttp://www.theda...  Sunday Roundup   \n",
       "freq                                                    2              75   \n",
       "\n",
       "               category short_description authors        date  \n",
       "count            112229            112229  112229      112229  \n",
       "unique                6            100764   18137        3889  \n",
       "top     NEWS & POLITICS                            2014-11-05  \n",
       "freq              39543             10348   17740          85  "
      ]
     },
     "execution_count": 23,
     "metadata": {},
     "output_type": "execute_result"
    }
   ],
   "source": [
    "df.describe()"
   ]
  },
  {
   "cell_type": "code",
   "execution_count": 24,
   "id": "8a452392-0fbf-40f4-b5e0-2734e251dce1",
   "metadata": {
    "scrolled": true
   },
   "outputs": [
    {
     "data": {
      "text/plain": [
       "short_description\n",
       "                                                                                                                                                                                                                                                                         10348\n",
       "Welcome to the HuffPost Rise Morning Newsbrief, a short wrap-up of the news to help you start your day.                                                                                                                                                                    173\n",
       "The stress and strain of constantly being connected can sometimes take your life -- and your well-being -- off course. GPS                                                                                                                                                  98\n",
       "Kids may say the darndest things, but parents tweet about them in the funniest ways. So each week, we round up the most hilarious                                                                                                                                           50\n",
       "If you're looking to see the most popular YouTube videos of the week, look no further. Once again, we're bringing you the                                                                                                                                                   41\n",
       "                                                                                                                                                                                                                                                                         ...  \n",
       "They opposed aid for victims of Hurricane Sandy. Now that it's their state in need...                                                                                                                                                                                        1\n",
       "While mindfulness is catching on and currently being taught in a handful of schools across the country, it is largely up to the parents to teach this powerful tool.                                                                                                         1\n",
       "Today, I want to celebrate my mother because she taught me something so essential and enduring that it has become my greatest passion: cooking. The closer we can get to the food we eat, the shorter the link between field and fork, the better off we will all be.        1\n",
       "I just stay.                                                                                                                                                                                                                                                                 1\n",
       "Japanese-American artist wanted to use art to make prison camps more humane.                                                                                                                                                                                                 1\n",
       "Name: count, Length: 100764, dtype: int64"
      ]
     },
     "execution_count": 24,
     "metadata": {},
     "output_type": "execute_result"
    }
   ],
   "source": [
    "df.short_description.value_counts()"
   ]
  },
  {
   "cell_type": "code",
   "execution_count": 25,
   "id": "d1c8ae7a-1ab5-4c6b-984c-72413d4902fb",
   "metadata": {
    "scrolled": true
   },
   "outputs": [
    {
     "data": {
      "text/html": [
       "<div>\n",
       "<style scoped>\n",
       "    .dataframe tbody tr th:only-of-type {\n",
       "        vertical-align: middle;\n",
       "    }\n",
       "\n",
       "    .dataframe tbody tr th {\n",
       "        vertical-align: top;\n",
       "    }\n",
       "\n",
       "    .dataframe thead th {\n",
       "        text-align: right;\n",
       "    }\n",
       "</style>\n",
       "<table border=\"1\" class=\"dataframe\">\n",
       "  <thead>\n",
       "    <tr style=\"text-align: right;\">\n",
       "      <th></th>\n",
       "      <th>link</th>\n",
       "      <th>headline</th>\n",
       "      <th>category</th>\n",
       "      <th>short_description</th>\n",
       "      <th>authors</th>\n",
       "      <th>date</th>\n",
       "    </tr>\n",
       "  </thead>\n",
       "  <tbody>\n",
       "    <tr>\n",
       "      <th>1363</th>\n",
       "      <td>https://www.huffingtonpost.com/entry/alabama-d...</td>\n",
       "      <td>The Best Chance To Defeat Roy Moore May Be For...</td>\n",
       "      <td>NEWS &amp; POLITICS</td>\n",
       "      <td>Democrat Doug Jones is trying to distinguish h...</td>\n",
       "      <td>Amanda Terkel</td>\n",
       "      <td>2017-11-24</td>\n",
       "    </tr>\n",
       "    <tr>\n",
       "      <th>1582</th>\n",
       "      <td>https://www.huffingtonpost.com/entry/octavia-s...</td>\n",
       "      <td>With This 'Shape Of Water' Clip, You'll Fall F...</td>\n",
       "      <td>ENTERTAINMENT</td>\n",
       "      <td>Spencer and Sally Hawkins play 1960s janitors ...</td>\n",
       "      <td>Matthew Jacobs</td>\n",
       "      <td>2017-12-05</td>\n",
       "    </tr>\n",
       "    <tr>\n",
       "      <th>1600</th>\n",
       "      <td>https://www.huffingtonpost.comhttp://www.cnn.c...</td>\n",
       "      <td>The World's Most Dangerous Workout?</td>\n",
       "      <td>SPORTS &amp; WELLNESS</td>\n",
       "      <td>Is the \"sport of fitness\" the world's most dan...</td>\n",
       "      <td></td>\n",
       "      <td>2014-02-10</td>\n",
       "    </tr>\n",
       "    <tr>\n",
       "      <th>2176</th>\n",
       "      <td>https://www.huffingtonpost.com/entry/watch-top...</td>\n",
       "      <td>Watch The Top 9 YouTube Videos Of The Week</td>\n",
       "      <td>EDUCATION</td>\n",
       "      <td>If you're looking to see the most popular YouT...</td>\n",
       "      <td></td>\n",
       "      <td>2012-09-01</td>\n",
       "    </tr>\n",
       "    <tr>\n",
       "      <th>4246</th>\n",
       "      <td>https://www.huffingtonpost.com/entry/watch-top...</td>\n",
       "      <td>Watch The Top 9 YouTube Videos Of The Week</td>\n",
       "      <td>EDUCATION</td>\n",
       "      <td>If you're looking to see the most popular YouT...</td>\n",
       "      <td>Britney Fitzgerald</td>\n",
       "      <td>2012-09-22</td>\n",
       "    </tr>\n",
       "    <tr>\n",
       "      <th>...</th>\n",
       "      <td>...</td>\n",
       "      <td>...</td>\n",
       "      <td>...</td>\n",
       "      <td>...</td>\n",
       "      <td>...</td>\n",
       "      <td>...</td>\n",
       "    </tr>\n",
       "    <tr>\n",
       "      <th>109919</th>\n",
       "      <td>https://www.huffingtonpost.com/entry/donald-tr...</td>\n",
       "      <td>Trump Will Add Cuba To List Of Obama Achieveme...</td>\n",
       "      <td>NEWS &amp; POLITICS</td>\n",
       "      <td>A Miami speech is set for Friday to announce c...</td>\n",
       "      <td>S.V. Date</td>\n",
       "      <td>2017-06-16</td>\n",
       "    </tr>\n",
       "    <tr>\n",
       "      <th>109964</th>\n",
       "      <td>https://www.huffingtonpost.com/entry/funniest-...</td>\n",
       "      <td>The Funniest Tweets From Parents This Week</td>\n",
       "      <td>PARENTING</td>\n",
       "      <td>Kids may say the darndest things, but parents ...</td>\n",
       "      <td>Hollis Miller</td>\n",
       "      <td>2016-10-21</td>\n",
       "    </tr>\n",
       "    <tr>\n",
       "      <th>111437</th>\n",
       "      <td>https://www.huffingtonpost.com/entry/best-pare...</td>\n",
       "      <td>Best Parenting Tweets: What Moms And Dads Said...</td>\n",
       "      <td>PARENTING</td>\n",
       "      <td>Kids may say the darndest things, but parents ...</td>\n",
       "      <td></td>\n",
       "      <td>2014-01-06</td>\n",
       "    </tr>\n",
       "    <tr>\n",
       "      <th>111529</th>\n",
       "      <td>https://www.huffingtonpost.com/entry/ballot-se...</td>\n",
       "      <td>In Ballot Selfie Battle, Free Speech Beats Fea...</td>\n",
       "      <td>NEWS &amp; POLITICS</td>\n",
       "      <td>A federal appellate court in Boston and a fede...</td>\n",
       "      <td>Alison Frankel, Reuters</td>\n",
       "      <td>2016-10-27</td>\n",
       "    </tr>\n",
       "    <tr>\n",
       "      <th>111850</th>\n",
       "      <td>https://www.huffingtonpost.com/entry/watch-top...</td>\n",
       "      <td>Watch The Top 9 YouTube Videos Of The Week</td>\n",
       "      <td>EDUCATION</td>\n",
       "      <td>If you're looking to see the most popular YouT...</td>\n",
       "      <td></td>\n",
       "      <td>2012-08-04</td>\n",
       "    </tr>\n",
       "  </tbody>\n",
       "</table>\n",
       "<p>179 rows × 6 columns</p>\n",
       "</div>"
      ],
      "text/plain": [
       "                                                     link  \\\n",
       "1363    https://www.huffingtonpost.com/entry/alabama-d...   \n",
       "1582    https://www.huffingtonpost.com/entry/octavia-s...   \n",
       "1600    https://www.huffingtonpost.comhttp://www.cnn.c...   \n",
       "2176    https://www.huffingtonpost.com/entry/watch-top...   \n",
       "4246    https://www.huffingtonpost.com/entry/watch-top...   \n",
       "...                                                   ...   \n",
       "109919  https://www.huffingtonpost.com/entry/donald-tr...   \n",
       "109964  https://www.huffingtonpost.com/entry/funniest-...   \n",
       "111437  https://www.huffingtonpost.com/entry/best-pare...   \n",
       "111529  https://www.huffingtonpost.com/entry/ballot-se...   \n",
       "111850  https://www.huffingtonpost.com/entry/watch-top...   \n",
       "\n",
       "                                                 headline           category  \\\n",
       "1363    The Best Chance To Defeat Roy Moore May Be For...    NEWS & POLITICS   \n",
       "1582    With This 'Shape Of Water' Clip, You'll Fall F...      ENTERTAINMENT   \n",
       "1600                  The World's Most Dangerous Workout?  SPORTS & WELLNESS   \n",
       "2176           Watch The Top 9 YouTube Videos Of The Week          EDUCATION   \n",
       "4246           Watch The Top 9 YouTube Videos Of The Week          EDUCATION   \n",
       "...                                                   ...                ...   \n",
       "109919  Trump Will Add Cuba To List Of Obama Achieveme...    NEWS & POLITICS   \n",
       "109964         The Funniest Tweets From Parents This Week          PARENTING   \n",
       "111437  Best Parenting Tweets: What Moms And Dads Said...          PARENTING   \n",
       "111529  In Ballot Selfie Battle, Free Speech Beats Fea...    NEWS & POLITICS   \n",
       "111850         Watch The Top 9 YouTube Videos Of The Week          EDUCATION   \n",
       "\n",
       "                                        short_description  \\\n",
       "1363    Democrat Doug Jones is trying to distinguish h...   \n",
       "1582    Spencer and Sally Hawkins play 1960s janitors ...   \n",
       "1600    Is the \"sport of fitness\" the world's most dan...   \n",
       "2176    If you're looking to see the most popular YouT...   \n",
       "4246    If you're looking to see the most popular YouT...   \n",
       "...                                                   ...   \n",
       "109919  A Miami speech is set for Friday to announce c...   \n",
       "109964  Kids may say the darndest things, but parents ...   \n",
       "111437  Kids may say the darndest things, but parents ...   \n",
       "111529  A federal appellate court in Boston and a fede...   \n",
       "111850  If you're looking to see the most popular YouT...   \n",
       "\n",
       "                        authors        date  \n",
       "1363              Amanda Terkel  2017-11-24  \n",
       "1582             Matthew Jacobs  2017-12-05  \n",
       "1600                             2014-02-10  \n",
       "2176                             2012-09-01  \n",
       "4246         Britney Fitzgerald  2012-09-22  \n",
       "...                         ...         ...  \n",
       "109919                S.V. Date  2017-06-16  \n",
       "109964            Hollis Miller  2016-10-21  \n",
       "111437                           2014-01-06  \n",
       "111529  Alison Frankel, Reuters  2016-10-27  \n",
       "111850                           2012-08-04  \n",
       "\n",
       "[179 rows x 6 columns]"
      ]
     },
     "execution_count": 25,
     "metadata": {},
     "output_type": "execute_result"
    }
   ],
   "source": [
    "df[df.duplicated([\"headline\", \"short_description\"], keep= False)]"
   ]
  },
  {
   "cell_type": "code",
   "execution_count": 26,
   "id": "0d6b6509-ef3c-433b-8f56-ff358ffd7cec",
   "metadata": {
    "scrolled": true
   },
   "outputs": [],
   "source": [
    "df.drop_duplicates(subset= [\"headline\", \"short_description\"], inplace=True, ignore_index=True)"
   ]
  },
  {
   "cell_type": "code",
   "execution_count": 27,
   "id": "744313e2-72c2-4c6f-90c1-08171c1c6ac2",
   "metadata": {},
   "outputs": [
    {
     "data": {
      "text/plain": [
       "0"
      ]
     },
     "execution_count": 27,
     "metadata": {},
     "output_type": "execute_result"
    }
   ],
   "source": [
    "len(df[df.duplicated([\"headline\", \"short_description\"], keep= False)])"
   ]
  },
  {
   "cell_type": "code",
   "execution_count": 28,
   "id": "8a0af842-a2ae-49b7-8a5b-d336fe396537",
   "metadata": {
    "scrolled": true
   },
   "outputs": [
    {
     "data": {
      "text/html": [
       "<div>\n",
       "<style scoped>\n",
       "    .dataframe tbody tr th:only-of-type {\n",
       "        vertical-align: middle;\n",
       "    }\n",
       "\n",
       "    .dataframe tbody tr th {\n",
       "        vertical-align: top;\n",
       "    }\n",
       "\n",
       "    .dataframe thead th {\n",
       "        text-align: right;\n",
       "    }\n",
       "</style>\n",
       "<table border=\"1\" class=\"dataframe\">\n",
       "  <thead>\n",
       "    <tr style=\"text-align: right;\">\n",
       "      <th></th>\n",
       "      <th>link</th>\n",
       "      <th>headline</th>\n",
       "      <th>category</th>\n",
       "      <th>short_description</th>\n",
       "      <th>authors</th>\n",
       "      <th>date</th>\n",
       "    </tr>\n",
       "  </thead>\n",
       "  <tbody>\n",
       "    <tr>\n",
       "      <th>9</th>\n",
       "      <td>https://www.huffingtonpost.com/entry/sniper_n_...</td>\n",
       "      <td>'American Sniper' Breaks January Box Office Re...</td>\n",
       "      <td>ENTERTAINMENT</td>\n",
       "      <td></td>\n",
       "      <td></td>\n",
       "      <td>2015-01-18</td>\n",
       "    </tr>\n",
       "    <tr>\n",
       "      <th>20</th>\n",
       "      <td>https://www.huffingtonpost.com/entry/rand-paul...</td>\n",
       "      <td>Rand Paul: Voter ID Push Is 'Dumb,' But The La...</td>\n",
       "      <td>NEWS &amp; POLITICS</td>\n",
       "      <td></td>\n",
       "      <td>Arthur Delaney</td>\n",
       "      <td>2014-11-02</td>\n",
       "    </tr>\n",
       "    <tr>\n",
       "      <th>28</th>\n",
       "      <td>https://www.huffingtonpost.com/entry/save-amer...</td>\n",
       "      <td>Save America through a Compromise of 2016</td>\n",
       "      <td>NEWS &amp; POLITICS</td>\n",
       "      <td></td>\n",
       "      <td>Robert S. McElvaine, ContributorHistorian</td>\n",
       "      <td>2016-12-10</td>\n",
       "    </tr>\n",
       "    <tr>\n",
       "      <th>46</th>\n",
       "      <td>https://www.huffingtonpost.com/entry/scott-bro...</td>\n",
       "      <td>Scott Brown's Work Against Energy Bill Sparks ...</td>\n",
       "      <td>NEWS &amp; POLITICS</td>\n",
       "      <td></td>\n",
       "      <td>Ryan Grim and Samantha Lachman</td>\n",
       "      <td>2014-05-22</td>\n",
       "    </tr>\n",
       "    <tr>\n",
       "      <th>58</th>\n",
       "      <td>https://www.huffingtonpost.com/entry/ctrl-plus...</td>\n",
       "      <td>CTRL+ PLUS: A Closer Look at AMC's Halt and Ca...</td>\n",
       "      <td>ENTERTAINMENT</td>\n",
       "      <td></td>\n",
       "      <td>Holly Cara Price, ContributorAgent Provocateur</td>\n",
       "      <td>2014-06-15</td>\n",
       "    </tr>\n",
       "    <tr>\n",
       "      <th>...</th>\n",
       "      <td>...</td>\n",
       "      <td>...</td>\n",
       "      <td>...</td>\n",
       "      <td>...</td>\n",
       "      <td>...</td>\n",
       "      <td>...</td>\n",
       "    </tr>\n",
       "    <tr>\n",
       "      <th>112002</th>\n",
       "      <td>https://www.huffingtonpost.com/entry/homeless-...</td>\n",
       "      <td>Homeless, Hungry and High</td>\n",
       "      <td>SPORTS &amp; WELLNESS</td>\n",
       "      <td></td>\n",
       "      <td>The Fix, ContributorThe world's leading websit...</td>\n",
       "      <td>2014-11-07</td>\n",
       "    </tr>\n",
       "    <tr>\n",
       "      <th>112048</th>\n",
       "      <td>https://www.huffingtonpost.com/entry/scotland-...</td>\n",
       "      <td>Scottish Independence Coming Down To A Close V...</td>\n",
       "      <td>NEWS &amp; POLITICS</td>\n",
       "      <td></td>\n",
       "      <td>Charlotte Alfred</td>\n",
       "      <td>2014-09-14</td>\n",
       "    </tr>\n",
       "    <tr>\n",
       "      <th>112067</th>\n",
       "      <td>https://www.huffingtonpost.com/entry/sally-yat...</td>\n",
       "      <td>Obama To Nominate Sally Yates To Be Deputy Att...</td>\n",
       "      <td>NEWS &amp; POLITICS</td>\n",
       "      <td></td>\n",
       "      <td></td>\n",
       "      <td>2014-12-21</td>\n",
       "    </tr>\n",
       "    <tr>\n",
       "      <th>112068</th>\n",
       "      <td>https://www.huffingtonpost.com/entry/liberty-k...</td>\n",
       "      <td>'Liberty Kids' Shake Up GOP</td>\n",
       "      <td>NEWS &amp; POLITICS</td>\n",
       "      <td></td>\n",
       "      <td></td>\n",
       "      <td>2014-08-05</td>\n",
       "    </tr>\n",
       "    <tr>\n",
       "      <th>112071</th>\n",
       "      <td>https://www.huffingtonpost.com/entry/white-hou...</td>\n",
       "      <td>White House Counseling Summit Raises Hopes, Qu...</td>\n",
       "      <td>EDUCATION</td>\n",
       "      <td></td>\n",
       "      <td>Patrick O'Connor, ContributorAssociate Dean of...</td>\n",
       "      <td>2014-07-30</td>\n",
       "    </tr>\n",
       "  </tbody>\n",
       "</table>\n",
       "<p>10322 rows × 6 columns</p>\n",
       "</div>"
      ],
      "text/plain": [
       "                                                     link  \\\n",
       "9       https://www.huffingtonpost.com/entry/sniper_n_...   \n",
       "20      https://www.huffingtonpost.com/entry/rand-paul...   \n",
       "28      https://www.huffingtonpost.com/entry/save-amer...   \n",
       "46      https://www.huffingtonpost.com/entry/scott-bro...   \n",
       "58      https://www.huffingtonpost.com/entry/ctrl-plus...   \n",
       "...                                                   ...   \n",
       "112002  https://www.huffingtonpost.com/entry/homeless-...   \n",
       "112048  https://www.huffingtonpost.com/entry/scotland-...   \n",
       "112067  https://www.huffingtonpost.com/entry/sally-yat...   \n",
       "112068  https://www.huffingtonpost.com/entry/liberty-k...   \n",
       "112071  https://www.huffingtonpost.com/entry/white-hou...   \n",
       "\n",
       "                                                 headline           category  \\\n",
       "9       'American Sniper' Breaks January Box Office Re...      ENTERTAINMENT   \n",
       "20      Rand Paul: Voter ID Push Is 'Dumb,' But The La...    NEWS & POLITICS   \n",
       "28              Save America through a Compromise of 2016    NEWS & POLITICS   \n",
       "46      Scott Brown's Work Against Energy Bill Sparks ...    NEWS & POLITICS   \n",
       "58      CTRL+ PLUS: A Closer Look at AMC's Halt and Ca...      ENTERTAINMENT   \n",
       "...                                                   ...                ...   \n",
       "112002                          Homeless, Hungry and High  SPORTS & WELLNESS   \n",
       "112048  Scottish Independence Coming Down To A Close V...    NEWS & POLITICS   \n",
       "112067  Obama To Nominate Sally Yates To Be Deputy Att...    NEWS & POLITICS   \n",
       "112068                        'Liberty Kids' Shake Up GOP    NEWS & POLITICS   \n",
       "112071  White House Counseling Summit Raises Hopes, Qu...          EDUCATION   \n",
       "\n",
       "       short_description                                            authors  \\\n",
       "9                                                                             \n",
       "20                                                           Arthur Delaney   \n",
       "28                                Robert S. McElvaine, ContributorHistorian   \n",
       "46                                           Ryan Grim and Samantha Lachman   \n",
       "58                           Holly Cara Price, ContributorAgent Provocateur   \n",
       "...                  ...                                                ...   \n",
       "112002                    The Fix, ContributorThe world's leading websit...   \n",
       "112048                                                     Charlotte Alfred   \n",
       "112067                                                                        \n",
       "112068                                                                        \n",
       "112071                    Patrick O'Connor, ContributorAssociate Dean of...   \n",
       "\n",
       "              date  \n",
       "9       2015-01-18  \n",
       "20      2014-11-02  \n",
       "28      2016-12-10  \n",
       "46      2014-05-22  \n",
       "58      2014-06-15  \n",
       "...            ...  \n",
       "112002  2014-11-07  \n",
       "112048  2014-09-14  \n",
       "112067  2014-12-21  \n",
       "112068  2014-08-05  \n",
       "112071  2014-07-30  \n",
       "\n",
       "[10322 rows x 6 columns]"
      ]
     },
     "execution_count": 28,
     "metadata": {},
     "output_type": "execute_result"
    }
   ],
   "source": [
    "df[df.short_description == \"\"]"
   ]
  },
  {
   "cell_type": "code",
   "execution_count": 33,
   "id": "7c68eed4-300b-44f8-912b-b20ea9daf89b",
   "metadata": {},
   "outputs": [],
   "source": [
    "mask1 = df.short_description == \"\"\n",
    "mask2 = df.category == \"EDUCATION\""
   ]
  },
  {
   "cell_type": "code",
   "execution_count": 44,
   "id": "a173e4e9-1fee-4ebd-836d-1cd91e9ea789",
   "metadata": {},
   "outputs": [],
   "source": [
    "unique_list = df.category.unique().tolist()"
   ]
  },
  {
   "cell_type": "code",
   "execution_count": 45,
   "id": "c51d887a-e7ac-4437-bf0e-40f297b9e0ec",
   "metadata": {},
   "outputs": [
    {
     "data": {
      "text/plain": [
       "['ENTERTAINMENT',\n",
       " 'ARTS, CULTURE & TRAVEL',\n",
       " 'NEWS & POLITICS',\n",
       " 'SPORTS & WELLNESS',\n",
       " 'EDUCATION',\n",
       " 'PARENTING']"
      ]
     },
     "execution_count": 45,
     "metadata": {},
     "output_type": "execute_result"
    }
   ],
   "source": [
    "unique_list"
   ]
  },
  {
   "cell_type": "code",
   "execution_count": 47,
   "id": "fe2fd80f-c832-48cd-967d-e7693df7d697",
   "metadata": {},
   "outputs": [
    {
     "name": "stdout",
     "output_type": "stream",
     "text": [
      "ENTERTAINMENT\n",
      "2833\n",
      "ARTS, CULTURE & TRAVEL\n",
      "965\n",
      "NEWS & POLITICS\n",
      "3835\n",
      "SPORTS & WELLNESS\n",
      "1736\n",
      "EDUCATION\n",
      "631\n",
      "PARENTING\n",
      "322\n"
     ]
    }
   ],
   "source": [
    "for val in unique_list:\n",
    "    print(val)\n",
    "    print (len(df[mask1 & (df.category == val)]))"
   ]
  },
  {
   "cell_type": "code",
   "execution_count": 27,
   "id": "00ea7a71-9365-4054-8642-1ab1c50f8b56",
   "metadata": {},
   "outputs": [
    {
     "data": {
      "text/plain": [
       "''"
      ]
     },
     "execution_count": 27,
     "metadata": {},
     "output_type": "execute_result"
    }
   ],
   "source": [
    "df.short_description[9]"
   ]
  },
  {
   "cell_type": "code",
   "execution_count": 28,
   "id": "d221d095-a179-4a49-8284-7becb306cf09",
   "metadata": {},
   "outputs": [],
   "source": [
    "from collections import Counter\n",
    "import seaborn as sns; sns.set_theme()\n",
    "import warnings; warnings.filterwarnings(\"ignore\")\n",
    "from wordcloud import WordCloud, STOPWORDS"
   ]
  },
  {
   "cell_type": "code",
   "execution_count": 29,
   "id": "a4ef982a-9ee9-424b-8d5a-c7c7b4125532",
   "metadata": {},
   "outputs": [
    {
     "data": {
      "text/plain": [
       "[('NEWS & POLITICS', 39531),\n",
       " ('SPORTS & WELLNESS', 25252),\n",
       " ('ENTERTAINMENT', 19338),\n",
       " ('ARTS, CULTURE & TRAVEL', 11745),\n",
       " ('PARENTING', 10764),\n",
       " ('EDUCATION', 5456)]"
      ]
     },
     "execution_count": 29,
     "metadata": {},
     "output_type": "execute_result"
    }
   ],
   "source": [
    "all_categories = Counter(df.category)\n",
    "\n",
    "all_categories.most_common()"
   ]
  },
  {
   "cell_type": "code",
   "execution_count": 30,
   "id": "b289b245-fa98-4bbb-b112-98bb76f0c9ea",
   "metadata": {},
   "outputs": [
    {
     "data": {
      "image/png": "[encoded data removed]",
      "text/plain": [
       "<Figure size 1000x700 with 1 Axes>"
      ]
     },
     "metadata": {},
     "output_type": "display_data"
    }
   ],
   "source": [
    "category, category_counts = zip(*all_categories.most_common())\n",
    "plt.figure(figsize=(10, 7))\n",
    "ax = sns.barplot(x=list(category), y=list(category_counts))\n",
    "ax.set_xticklabels(category, fontsize=8)\n",
    "plt.title(\"Category Distribution\", fontsize=14)\n",
    "plt.ylabel(\"# of Category\", fontsize=12)\n",
    "plt.show()"
   ]
  },
  {
   "cell_type": "code",
   "execution_count": 31,
   "id": "7bae55ac-1565-4c23-8e89-c04618e2e2fc",
   "metadata": {},
   "outputs": [
    {
     "data": {
      "application/vnd.jupyter.widget-view+json": {
       "model_id": "3c84997da8084607b5ddb9613a676cae",
       "version_major": 2,
       "version_minor": 0
      },
      "text/plain": [
       "Dropdown(description='Category:', options=('ENTERTAINMENT', 'ARTS, CULTURE & TRAVEL', 'NEWS & POLITICS', 'SPOR…"
      ]
     },
     "metadata": {},
     "output_type": "display_data"
    },
    {
     "data": {
      "application/vnd.jupyter.widget-view+json": {
       "model_id": "35965269ebc3495caa31264d32993a81",
       "version_major": 2,
       "version_minor": 0
      },
      "text/plain": [
       "Output()"
      ]
     },
     "metadata": {},
     "output_type": "display_data"
    }
   ],
   "source": [
    "from ipywidgets import interact, widgets\n",
    "from IPython.display import display\n",
    "\n",
    "def plot_wordcloud(category):\n",
    "    \"\"\"\n",
    "    Plots a word cloud for the given category.\n",
    "\n",
    "    Args:\n",
    "        category: The tag for which to generate the word cloud.\n",
    "    \"\"\"\n",
    "    plt.close()\n",
    "    subset = df[df.category == category]\n",
    "    text = subset.headline.values\n",
    "    cloud = WordCloud(\n",
    "        stopwords=STOPWORDS, background_color=\"black\", collocations=False,\n",
    "        width=500, height=300\n",
    "    ).generate(\" \".join(text))\n",
    "    plt.figure(figsize=(10, 3))\n",
    "    plt.axis(\"off\")\n",
    "    plt.imshow(cloud)\n",
    "    plt.show()\n",
    "    \n",
    "\n",
    "categories = df['category'].unique() # Get unique tags from your DataFrame \n",
    "cat_selector = widgets.Dropdown( options=categories, value=categories[0], description='Category:' ) \n",
    "\n",
    "# Display the widget and output \n",
    "output = widgets.Output()\n",
    "\n",
    "def on_change(change): \n",
    "    with output: \n",
    "        output.clear_output(wait=True) \n",
    "        interact(plot_wordcloud(change['new']))\n",
    "        \n",
    "cat_selector.observe(on_change, names='value')\n",
    "\n",
    "# Display the widgets and the output area\n",
    "#interact(cat_selector )\n",
    "display(cat_selector, output)\n",
    "\n",
    "# Initial plot \n",
    "#plot_wordcloud(categories0])"
   ]
  },
  {
   "cell_type": "code",
   "execution_count": 32,
   "id": "70bde12a-ec2a-42d1-9881-cfcfb732c00f",
   "metadata": {},
   "outputs": [
    {
     "data": {
      "application/vnd.jupyter.widget-view+json": {
       "model_id": "f5ec1ffba0b24d4695383a884805bd22",
       "version_major": 2,
       "version_minor": 0
      },
      "text/plain": [
       "Dropdown(description='Category:', options=('ENTERTAINMENT', 'ARTS, CULTURE & TRAVEL', 'NEWS & POLITICS', 'SPOR…"
      ]
     },
     "metadata": {},
     "output_type": "display_data"
    },
    {
     "data": {
      "application/vnd.jupyter.widget-view+json": {
       "model_id": "536ddc34e0f44397b8bc32fc2bd97caf",
       "version_major": 2,
       "version_minor": 0
      },
      "text/plain": [
       "Output()"
      ]
     },
     "metadata": {},
     "output_type": "display_data"
    }
   ],
   "source": [
    "from newsfeed.plot import plot_wordcloud\n",
    "plot_wordcloud(df)"
   ]
  },
  {
   "cell_type": "code",
   "execution_count": 33,
   "id": "a851103b-e21e-4e61-aa19-6795778951b2",
   "metadata": {},
   "outputs": [],
   "source": [
    "import nltk\n",
    "from nltk.stem.snowball import SnowballStemmer"
   ]
  },
  {
   "cell_type": "code",
   "execution_count": 34,
   "id": "5b2e3039-aab6-4596-8215-b2af0d893a06",
   "metadata": {},
   "outputs": [
    {
     "data": {
      "text/plain": [
       "0    The \"Girls Trip\" actress gives the definitive ...\n",
       "1    The late night host examined how President Tru...\n",
       "2    How should we respond when a white artist appr...\n",
       "3    What's the Exit Strategy? What's the Exit Stra...\n",
       "4    Kubiak took over after Capers was fired follow...\n",
       "Name: headline, dtype: object"
      ]
     },
     "execution_count": 34,
     "metadata": {},
     "output_type": "execute_result"
    }
   ],
   "source": [
    "df[\"headline\"] = df['short_description'] + ' ' + df['headline']\n",
    "df.headline[:5]"
   ]
  },
  {
   "cell_type": "code",
   "execution_count": 35,
   "id": "771b1b20-5d2f-4363-8d2c-76b38ed4c7a4",
   "metadata": {},
   "outputs": [
    {
     "data": {
      "text/html": [
       "<div>\n",
       "<style scoped>\n",
       "    .dataframe tbody tr th:only-of-type {\n",
       "        vertical-align: middle;\n",
       "    }\n",
       "\n",
       "    .dataframe tbody tr th {\n",
       "        vertical-align: top;\n",
       "    }\n",
       "\n",
       "    .dataframe thead th {\n",
       "        text-align: right;\n",
       "    }\n",
       "</style>\n",
       "<table border=\"1\" class=\"dataframe\">\n",
       "  <thead>\n",
       "    <tr style=\"text-align: right;\">\n",
       "      <th></th>\n",
       "      <th>headline</th>\n",
       "      <th>category</th>\n",
       "    </tr>\n",
       "  </thead>\n",
       "  <tbody>\n",
       "    <tr>\n",
       "      <th>0</th>\n",
       "      <td>The \"Girls Trip\" actress gives the definitive ...</td>\n",
       "      <td>ENTERTAINMENT</td>\n",
       "    </tr>\n",
       "    <tr>\n",
       "      <th>1</th>\n",
       "      <td>The late night host examined how President Tru...</td>\n",
       "      <td>ENTERTAINMENT</td>\n",
       "    </tr>\n",
       "    <tr>\n",
       "      <th>2</th>\n",
       "      <td>How should we respond when a white artist appr...</td>\n",
       "      <td>ARTS, CULTURE &amp; TRAVEL</td>\n",
       "    </tr>\n",
       "    <tr>\n",
       "      <th>3</th>\n",
       "      <td>What's the Exit Strategy? What's the Exit Stra...</td>\n",
       "      <td>NEWS &amp; POLITICS</td>\n",
       "    </tr>\n",
       "    <tr>\n",
       "      <th>4</th>\n",
       "      <td>Kubiak took over after Capers was fired follow...</td>\n",
       "      <td>SPORTS &amp; WELLNESS</td>\n",
       "    </tr>\n",
       "  </tbody>\n",
       "</table>\n",
       "</div>"
      ],
      "text/plain": [
       "                                            headline                category\n",
       "0  The \"Girls Trip\" actress gives the definitive ...           ENTERTAINMENT\n",
       "1  The late night host examined how President Tru...           ENTERTAINMENT\n",
       "2  How should we respond when a white artist appr...  ARTS, CULTURE & TRAVEL\n",
       "3  What's the Exit Strategy? What's the Exit Stra...         NEWS & POLITICS\n",
       "4  Kubiak took over after Capers was fired follow...       SPORTS & WELLNESS"
      ]
     },
     "execution_count": 35,
     "metadata": {},
     "output_type": "execute_result"
    }
   ],
   "source": [
    "df.drop(columns=[\"link\", \"short_description\", \"authors\", \"date\"], inplace=True)\n",
    "df.dropna(subset= [\"category\"], inplace=True)\n",
    "df.head()"
   ]
  },
  {
   "cell_type": "code",
   "execution_count": 36,
   "id": "c6e43c26-3e8c-4dce-9584-baa5588da1e5",
   "metadata": {},
   "outputs": [],
   "source": [
    "stemmer = SnowballStemmer(\"english\")"
   ]
  },
  {
   "cell_type": "code",
   "execution_count": 37,
   "id": "89af3c6a-4b0d-4ec0-bc2b-c3ee714e889c",
   "metadata": {},
   "outputs": [],
   "source": [
    "def clean_text(text, stopwords=STOPWORDS, stemmer=stemmer ):\n",
    "    \"\"\"Clean raw text string.\"\"\"\n",
    "    # Lower\n",
    "    text = text.lower()\n",
    "\n",
    "    # Remove stopwords\n",
    "    pattern = re.compile(r'\\b(' + r\"|\".join(stopwords) + r\")\\b\\s*\")\n",
    "    text = pattern.sub('', text)\n",
    "    # Stem the text\n",
    "    text = stemmer.stem(text)\n",
    "    \n",
    "\n",
    "    # Spacing and filters\n",
    "    text = re.sub(r\"([!\"\"'#$%&()*\\+,-./:;<=>?@\\\\\\[\\]^_`{|}~])\", r\" \\1 \", text)  # add spacing\n",
    "    text = re.sub(\"[^A-Za-z0-9]+\", \" \", text)  # remove non alphanumeric chars\n",
    "    text = re.sub(\" +\", \" \", text)  # remove multiple spaces\n",
    "    text = text.strip()  # strip white space at the ends\n",
    "    text = re.sub(r\"http\\S+\", \"\", text)  #  remove links\n",
    "    \n",
    "    return text"
   ]
  },
  {
   "cell_type": "code",
   "execution_count": 38,
   "id": "61b1a870-ca09-41da-83d8-5ca51f0c6034",
   "metadata": {},
   "outputs": [
    {
     "name": "stdout",
     "output_type": "stream",
     "text": [
      "The \"Girls Trip\" actress gives the definitive answer on whether men should spray cologne on their privates. Tiffany Haddish Has Dating Tips For Guys, And None Involve Turpentine\n",
      "girls trip actress gives definitive answer whether men spray cologne privates tiffany haddish dating tips guys none involve turpentin\n"
     ]
    }
   ],
   "source": [
    "original_df = df.copy()\n",
    "df.headline = df.headline.apply(clean_text)\n",
    "print (f\"{original_df.headline.values[0]}\\n{df.headline.values[0]}\")"
   ]
  },
  {
   "cell_type": "code",
   "execution_count": 39,
   "id": "5ed78f17-485b-41df-9cca-2ae24636dce6",
   "metadata": {},
   "outputs": [
    {
     "data": {
      "text/html": [
       "<div>\n",
       "<style scoped>\n",
       "    .dataframe tbody tr th:only-of-type {\n",
       "        vertical-align: middle;\n",
       "    }\n",
       "\n",
       "    .dataframe tbody tr th {\n",
       "        vertical-align: top;\n",
       "    }\n",
       "\n",
       "    .dataframe thead th {\n",
       "        text-align: right;\n",
       "    }\n",
       "</style>\n",
       "<table border=\"1\" class=\"dataframe\">\n",
       "  <thead>\n",
       "    <tr style=\"text-align: right;\">\n",
       "      <th></th>\n",
       "      <th>headline</th>\n",
       "      <th>category</th>\n",
       "    </tr>\n",
       "  </thead>\n",
       "  <tbody>\n",
       "    <tr>\n",
       "      <th>0</th>\n",
       "      <td>girls trip actress gives definitive answer whe...</td>\n",
       "      <td>ENTERTAINMENT</td>\n",
       "    </tr>\n",
       "    <tr>\n",
       "      <th>1</th>\n",
       "      <td>late night host examined president trump s dau...</td>\n",
       "      <td>ENTERTAINMENT</td>\n",
       "    </tr>\n",
       "    <tr>\n",
       "      <th>2</th>\n",
       "      <td>respond white artist appropriates black body a...</td>\n",
       "      <td>ARTS, CULTURE &amp; TRAVEL</td>\n",
       "    </tr>\n",
       "    <tr>\n",
       "      <th>3</th>\n",
       "      <td>exit strategy exit strategy</td>\n",
       "      <td>NEWS &amp; POLITICS</td>\n",
       "    </tr>\n",
       "    <tr>\n",
       "      <th>4</th>\n",
       "      <td>kubiak took capers fired following houston s 2...</td>\n",
       "      <td>SPORTS &amp; WELLNESS</td>\n",
       "    </tr>\n",
       "  </tbody>\n",
       "</table>\n",
       "</div>"
      ],
      "text/plain": [
       "                                            headline                category\n",
       "0  girls trip actress gives definitive answer whe...           ENTERTAINMENT\n",
       "1  late night host examined president trump s dau...           ENTERTAINMENT\n",
       "2  respond white artist appropriates black body a...  ARTS, CULTURE & TRAVEL\n",
       "3                        exit strategy exit strategy         NEWS & POLITICS\n",
       "4  kubiak took capers fired following houston s 2...       SPORTS & WELLNESS"
      ]
     },
     "execution_count": 39,
     "metadata": {},
     "output_type": "execute_result"
    }
   ],
   "source": [
    "df.head()"
   ]
  },
  {
   "cell_type": "code",
   "execution_count": 40,
   "id": "85705cae-01ba-4af5-9f91-6767c03a58b8",
   "metadata": {},
   "outputs": [],
   "source": [
    "# Label to index\n",
    "def encode(df):\n",
    "    category = df[\"category\"].unique().tolist()\n",
    "    class_to_index = {cat: i for i, cat in enumerate(category)}\n",
    "    index_to_class = {v:k for k, v in class_to_index.items()}\n",
    "\n",
    "    return class_to_index, index_to_class\n",
    "    \n",
    "# Index to label\n",
    "def decode(indices, index_to_class):\n",
    "    return [index_to_class[index] for index in indices]"
   ]
  },
  {
   "cell_type": "code",
   "execution_count": 41,
   "id": "81fd9140-3462-4570-9321-521d9fbb9cd8",
   "metadata": {},
   "outputs": [],
   "source": [
    "from transformers import BertTokenizer"
   ]
  },
  {
   "cell_type": "code",
   "execution_count": 39,
   "id": "b0dc7778-5243-47d5-8991-05890236d6e0",
   "metadata": {},
   "outputs": [
    {
     "name": "stdout",
     "output_type": "stream",
     "text": [
      "input_ids: tf.Tensor([[  102  9340 18383   190 29155   168  3267  2998   205   103]], shape=(1, 10), dtype=int32)\n",
      "attention_mask: tf.Tensor([[1 1 1 1 1 1 1 1 1 1]], shape=(1, 10), dtype=int32)\n",
      "[CLS] news categorization with transformers for text classification. [SEP]\n"
     ]
    },
    {
     "name": "stderr",
     "output_type": "stream",
     "text": [
      "2025-02-01 09:04:15.073207: E external/local_xla/xla/stream_executor/cuda/cuda_driver.cc:152] failed call to cuInit: INTERNAL: CUDA error: Failed call to cuInit: UNKNOWN ERROR (303)\n"
     ]
    }
   ],
   "source": [
    "# Test with sample phrase\n",
    "tokenizer = BertTokenizer.from_pretrained(\"allenai/scibert_scivocab_uncased\", return_dict=False)\n",
    "text = \"News categorization with transformers for text classification.\"\n",
    "encoded_inputs = tokenizer([text], return_tensors=\"tf\", padding=\"longest\")  # pad to longest item in batch\n",
    "print (\"input_ids:\", encoded_inputs[\"input_ids\"])\n",
    "print (\"attention_mask:\", encoded_inputs[\"attention_mask\"])\n",
    "print (tokenizer.decode(encoded_inputs[\"input_ids\"][0]))"
   ]
  },
  {
   "cell_type": "code",
   "execution_count": 42,
   "id": "5d32b296-0222-4b53-959e-e0b3cc870813",
   "metadata": {},
   "outputs": [],
   "source": [
    "def tokenize(batch):\n",
    "    tokenizer = BertTokenizer.from_pretrained(\"bert-base-uncased\", return_dict=False)\n",
    "    encoded_inputs = tokenizer(batch[\"headline\"].tolist(), return_tensors=\"tf\", padding=\"longest\")\n",
    "    return dict(input_ids=encoded_inputs[\"input_ids\"], attention_mask=encoded_inputs[\"attention_mask\"]), tf.convert_to_tensor(batch[\"category\"])"
   ]
  },
  {
   "cell_type": "code",
   "execution_count": 43,
   "id": "2d674bad-ed9e-43fc-b405-b5fd177ce360",
   "metadata": {},
   "outputs": [
    {
     "name": "stderr",
     "output_type": "stream",
     "text": [
      "2025-02-03 15:57:11.733119: E external/local_xla/xla/stream_executor/cuda/cuda_driver.cc:152] failed call to cuInit: INTERNAL: CUDA error: Failed call to cuInit: UNKNOWN ERROR (303)\n"
     ]
    },
    {
     "data": {
      "text/plain": [
       "({'input_ids': <tf.Tensor: shape=(1, 27), dtype=int32, numpy=\n",
       "  array([[  101,  3057,  4440,  3883,  3957, 15764,  3437,  3251,  2273,\n",
       "          12509, 10918,  2797,  2015, 14381,  2018, 10521,  2232,  5306,\n",
       "          10247,  4364,  3904,  9125, 10722, 14536,  4765,  2378,   102]],\n",
       "        dtype=int32)>,\n",
       "  'attention_mask': <tf.Tensor: shape=(1, 27), dtype=int32, numpy=\n",
       "  array([[1, 1, 1, 1, 1, 1, 1, 1, 1, 1, 1, 1, 1, 1, 1, 1, 1, 1, 1, 1, 1, 1,\n",
       "          1, 1, 1, 1, 1]], dtype=int32)>},\n",
       " <tf.Tensor: shape=(1,), dtype=string, numpy=array([b'ENTERTAINMENT'], dtype=object)>)"
      ]
     },
     "execution_count": 43,
     "metadata": {},
     "output_type": "execute_result"
    }
   ],
   "source": [
    "# Tokenization\n",
    "tokenize(df.head(1))"
   ]
  },
  {
   "cell_type": "code",
   "execution_count": 44,
   "id": "6c98702f-8e07-499c-9d2c-f984ddb2bebb",
   "metadata": {},
   "outputs": [],
   "source": [
    "def preprocess(df, class_to_index):\n",
    "    \"\"\"Preprocess the data.\"\"\"\n",
    "    df.drop_duplicates(subset= [\"headline\", \"short_description\"], inplace=True, ignore_index=True)\n",
    "    df[\"headline\"] = df[\"headline\"] + \" \" + df[\"short_description\"]\n",
    "    df.drop(columns=[\"link\", \"short_description\", \"authors\", \"date\"], inplace=True)\n",
    "    df.dropna(subset= [\"category\"], inplace=True)\n",
    "    df[\"headline\"] = df[\"headline\"].apply(clean_text)\n",
    "    df[\"category\"] = df[\"category\"].map(class_to_index)\n",
    "    outputs = tokenize(df)\n",
    "    return outputs"
   ]
  },
  {
   "cell_type": "code",
   "execution_count": 45,
   "id": "3b485757-9317-4b70-a0e3-f36a6c6d7f93",
   "metadata": {},
   "outputs": [
    {
     "data": {
      "text/html": [
       "<div>\n",
       "<style scoped>\n",
       "    .dataframe tbody tr th:only-of-type {\n",
       "        vertical-align: middle;\n",
       "    }\n",
       "\n",
       "    .dataframe tbody tr th {\n",
       "        vertical-align: top;\n",
       "    }\n",
       "\n",
       "    .dataframe thead th {\n",
       "        text-align: right;\n",
       "    }\n",
       "</style>\n",
       "<table border=\"1\" class=\"dataframe\">\n",
       "  <thead>\n",
       "    <tr style=\"text-align: right;\">\n",
       "      <th></th>\n",
       "      <th>headline</th>\n",
       "      <th>category</th>\n",
       "    </tr>\n",
       "  </thead>\n",
       "  <tbody>\n",
       "    <tr>\n",
       "      <th>20838</th>\n",
       "      <td>volkswagen admitted september installed softwa...</td>\n",
       "      <td>NEWS &amp; POLITICS</td>\n",
       "    </tr>\n",
       "    <tr>\n",
       "      <th>19564</th>\n",
       "      <td>single one us go life angry others handling si...</td>\n",
       "      <td>SPORTS &amp; WELLNESS</td>\n",
       "    </tr>\n",
       "    <tr>\n",
       "      <th>37973</th>\n",
       "      <td>parents know children something time children ...</td>\n",
       "      <td>PARENTING</td>\n",
       "    </tr>\n",
       "    <tr>\n",
       "      <th>83495</th>\n",
       "      <td>now s turn evaluate lunge form try tips tell u...</td>\n",
       "      <td>SPORTS &amp; WELLNESS</td>\n",
       "    </tr>\n",
       "    <tr>\n",
       "      <th>15779</th>\n",
       "      <td>oh lightning bottle beautify soul gathering mi...</td>\n",
       "      <td>ENTERTAINMENT</td>\n",
       "    </tr>\n",
       "    <tr>\n",
       "      <th>...</th>\n",
       "      <td>...</td>\n",
       "      <td>...</td>\n",
       "    </tr>\n",
       "    <tr>\n",
       "      <th>104269</th>\n",
       "      <td>bannon former chief strategist president trump...</td>\n",
       "      <td>ENTERTAINMENT</td>\n",
       "    </tr>\n",
       "    <tr>\n",
       "      <th>87111</th>\n",
       "      <td>four riga locals share favorite tips recommend...</td>\n",
       "      <td>ARTS, CULTURE &amp; TRAVEL</td>\n",
       "    </tr>\n",
       "    <tr>\n",
       "      <th>79523</th>\n",
       "      <td>obama administration s entire syria policy res...</td>\n",
       "      <td>NEWS &amp; POLITICS</td>\n",
       "    </tr>\n",
       "    <tr>\n",
       "      <th>6133</th>\n",
       "      <td>viewers loved comic relief pennsylvania ag s s...</td>\n",
       "      <td>NEWS &amp; POLITICS</td>\n",
       "    </tr>\n",
       "    <tr>\n",
       "      <th>30015</th>\n",
       "      <td>support vital help friend substance use problem</td>\n",
       "      <td>SPORTS &amp; WELLNESS</td>\n",
       "    </tr>\n",
       "  </tbody>\n",
       "</table>\n",
       "<p>100 rows × 2 columns</p>\n",
       "</div>"
      ],
      "text/plain": [
       "                                                 headline                category\n",
       "20838   volkswagen admitted september installed softwa...         NEWS & POLITICS\n",
       "19564   single one us go life angry others handling si...       SPORTS & WELLNESS\n",
       "37973   parents know children something time children ...               PARENTING\n",
       "83495   now s turn evaluate lunge form try tips tell u...       SPORTS & WELLNESS\n",
       "15779   oh lightning bottle beautify soul gathering mi...           ENTERTAINMENT\n",
       "...                                                   ...                     ...\n",
       "104269  bannon former chief strategist president trump...           ENTERTAINMENT\n",
       "87111   four riga locals share favorite tips recommend...  ARTS, CULTURE & TRAVEL\n",
       "79523   obama administration s entire syria policy res...         NEWS & POLITICS\n",
       "6133    viewers loved comic relief pennsylvania ag s s...         NEWS & POLITICS\n",
       "30015     support vital help friend substance use problem       SPORTS & WELLNESS\n",
       "\n",
       "[100 rows x 2 columns]"
      ]
     },
     "execution_count": 45,
     "metadata": {},
     "output_type": "execute_result"
    }
   ],
   "source": [
    "df.sample(n=100, random_state=1234)"
   ]
  },
  {
   "cell_type": "code",
   "execution_count": 45,
   "id": "571d9000-1aab-4bd5-820e-d92bf3f3cc15",
   "metadata": {},
   "outputs": [],
   "source": [
    "def load_dataframe(path):\n",
    "    df = pd.read_csv(path, keep_default_na=False)\n",
    "    return df\n",
    "    \n",
    "\n",
    "\n",
    "\n",
    "def split_train_test(df, strat_cols, test_size, seed=1234, shuffle=True, num_samples=None):\n",
    "    \n",
    "    df = df.sample(n=num_samples, random_state=seed ) if num_samples else df\n",
    "    train, val = train_test_split(df,\n",
    "                                  test_size=test_size,\n",
    "                                  random_state=seed,\n",
    "                                  shuffle=shuffle,\n",
    "                                  stratify=df[strat_cols]\n",
    "                                 )\n",
    "\n",
    "    train_ds = train.sample(frac=1, random_state=seed)\n",
    "    val_ds = val.sample(frac=1, random_state=seed)\n",
    "    return train_ds, val_ds"
   ]
  },
  {
   "cell_type": "code",
   "execution_count": 46,
   "id": "e4ede22e-fca9-42ef-8a82-3acad1f1c8eb",
   "metadata": {},
   "outputs": [],
   "source": [
    "train_ds, val_ds = split_train_test(df, strat_cols=\"category\", test_size = 0.2, num_samples = 100)"
   ]
  },
  {
   "cell_type": "code",
   "execution_count": 47,
   "id": "89e9988e-6c89-45d0-bd19-39abb1ec1a8c",
   "metadata": {},
   "outputs": [
    {
     "data": {
      "text/html": [
       "<div>\n",
       "<style scoped>\n",
       "    .dataframe tbody tr th:only-of-type {\n",
       "        vertical-align: middle;\n",
       "    }\n",
       "\n",
       "    .dataframe tbody tr th {\n",
       "        vertical-align: top;\n",
       "    }\n",
       "\n",
       "    .dataframe thead th {\n",
       "        text-align: right;\n",
       "    }\n",
       "</style>\n",
       "<table border=\"1\" class=\"dataframe\">\n",
       "  <thead>\n",
       "    <tr style=\"text-align: right;\">\n",
       "      <th></th>\n",
       "      <th>headline</th>\n",
       "      <th>category</th>\n",
       "    </tr>\n",
       "  </thead>\n",
       "  <tbody>\n",
       "    <tr>\n",
       "      <th>19981</th>\n",
       "      <td>think people selfish difficulty trusting peopl...</td>\n",
       "      <td>SPORTS &amp; WELLNESS</td>\n",
       "    </tr>\n",
       "    <tr>\n",
       "      <th>20838</th>\n",
       "      <td>volkswagen admitted september installed softwa...</td>\n",
       "      <td>NEWS &amp; POLITICS</td>\n",
       "    </tr>\n",
       "    <tr>\n",
       "      <th>53654</th>\n",
       "      <td>daily szep press nsa</td>\n",
       "      <td>ENTERTAINMENT</td>\n",
       "    </tr>\n",
       "    <tr>\n",
       "      <th>102699</th>\n",
       "      <td>time republicans backing 9 11 health legisl</td>\n",
       "      <td>NEWS &amp; POLITICS</td>\n",
       "    </tr>\n",
       "    <tr>\n",
       "      <th>50412</th>\n",
       "      <td>health care providers cry almost least occasio...</td>\n",
       "      <td>SPORTS &amp; WELLNESS</td>\n",
       "    </tr>\n",
       "    <tr>\n",
       "      <th>...</th>\n",
       "      <td>...</td>\n",
       "      <td>...</td>\n",
       "    </tr>\n",
       "    <tr>\n",
       "      <th>8712</th>\n",
       "      <td>trump trying convince voters racist even thoug...</td>\n",
       "      <td>NEWS &amp; POLITICS</td>\n",
       "    </tr>\n",
       "    <tr>\n",
       "      <th>12642</th>\n",
       "      <td>m busy busy busy time relax talking work don t...</td>\n",
       "      <td>SPORTS &amp; WELLNESS</td>\n",
       "    </tr>\n",
       "    <tr>\n",
       "      <th>56805</th>\n",
       "      <td>fear lot man former mlb star lenny dykstra cla...</td>\n",
       "      <td>SPORTS &amp; WELLNESS</td>\n",
       "    </tr>\n",
       "    <tr>\n",
       "      <th>91151</th>\n",
       "      <td>day 6 susan travels water meet refugee boats d...</td>\n",
       "      <td>NEWS &amp; POLITICS</td>\n",
       "    </tr>\n",
       "    <tr>\n",
       "      <th>108029</th>\n",
       "      <td>team researchers found brazil president lula d...</td>\n",
       "      <td>SPORTS &amp; WELLNESS</td>\n",
       "    </tr>\n",
       "  </tbody>\n",
       "</table>\n",
       "<p>80 rows × 2 columns</p>\n",
       "</div>"
      ],
      "text/plain": [
       "                                                 headline           category\n",
       "19981   think people selfish difficulty trusting peopl...  SPORTS & WELLNESS\n",
       "20838   volkswagen admitted september installed softwa...    NEWS & POLITICS\n",
       "53654                                daily szep press nsa      ENTERTAINMENT\n",
       "102699        time republicans backing 9 11 health legisl    NEWS & POLITICS\n",
       "50412   health care providers cry almost least occasio...  SPORTS & WELLNESS\n",
       "...                                                   ...                ...\n",
       "8712    trump trying convince voters racist even thoug...    NEWS & POLITICS\n",
       "12642   m busy busy busy time relax talking work don t...  SPORTS & WELLNESS\n",
       "56805   fear lot man former mlb star lenny dykstra cla...  SPORTS & WELLNESS\n",
       "91151   day 6 susan travels water meet refugee boats d...    NEWS & POLITICS\n",
       "108029  team researchers found brazil president lula d...  SPORTS & WELLNESS\n",
       "\n",
       "[80 rows x 2 columns]"
      ]
     },
     "execution_count": 47,
     "metadata": {},
     "output_type": "execute_result"
    }
   ],
   "source": [
    "train_ds"
   ]
  },
  {
   "cell_type": "code",
   "execution_count": 48,
   "id": "b63a2c54-8634-4b70-b0c7-cb3e1709c9f6",
   "metadata": {},
   "outputs": [
    {
     "data": {
      "text/html": [
       "<div>\n",
       "<style scoped>\n",
       "    .dataframe tbody tr th:only-of-type {\n",
       "        vertical-align: middle;\n",
       "    }\n",
       "\n",
       "    .dataframe tbody tr th {\n",
       "        vertical-align: top;\n",
       "    }\n",
       "\n",
       "    .dataframe thead th {\n",
       "        text-align: right;\n",
       "    }\n",
       "</style>\n",
       "<table border=\"1\" class=\"dataframe\">\n",
       "  <thead>\n",
       "    <tr style=\"text-align: right;\">\n",
       "      <th></th>\n",
       "      <th>link</th>\n",
       "      <th>headline</th>\n",
       "      <th>category</th>\n",
       "      <th>short_description</th>\n",
       "      <th>authors</th>\n",
       "      <th>date</th>\n",
       "    </tr>\n",
       "  </thead>\n",
       "  <tbody>\n",
       "    <tr>\n",
       "      <th>0</th>\n",
       "      <td>https://www.huffingtonpost.com/entry/tiffany-h...</td>\n",
       "      <td>Tiffany Haddish Has Dating Tips For Guys, And ...</td>\n",
       "      <td>ENTERTAINMENT</td>\n",
       "      <td>The \"Girls Trip\" actress gives the definitive ...</td>\n",
       "      <td>Ron Dicker</td>\n",
       "      <td>2018-03-27</td>\n",
       "    </tr>\n",
       "    <tr>\n",
       "      <th>1</th>\n",
       "      <td>https://www.huffingtonpost.com/entry/samantha-...</td>\n",
       "      <td>Samantha Bee Sums Up Ivanka Trump's New White ...</td>\n",
       "      <td>ENTERTAINMENT</td>\n",
       "      <td>The late night host examined how President Tru...</td>\n",
       "      <td>Lee Moran</td>\n",
       "      <td>2017-04-06</td>\n",
       "    </tr>\n",
       "    <tr>\n",
       "      <th>2</th>\n",
       "      <td>https://www.huffingtonpost.com/entry/the-artis...</td>\n",
       "      <td>The Artist Behind Controversial Michael Brown ...</td>\n",
       "      <td>ARTS, CULTURE &amp; TRAVEL</td>\n",
       "      <td>How should we respond when a white artist appr...</td>\n",
       "      <td>Priscilla Frank</td>\n",
       "      <td>2015-07-16</td>\n",
       "    </tr>\n",
       "    <tr>\n",
       "      <th>3</th>\n",
       "      <td>https://www.huffingtonpost.com/entry/whats-the...</td>\n",
       "      <td>What's the Exit Strategy?</td>\n",
       "      <td>NEWS &amp; POLITICS</td>\n",
       "      <td>What's the Exit Strategy?</td>\n",
       "      <td>Mike Smith, ContributorLas Vegas Sun’s editori...</td>\n",
       "      <td>2014-09-27</td>\n",
       "    </tr>\n",
       "    <tr>\n",
       "      <th>4</th>\n",
       "      <td>https://www.huffingtonpost.com/entry/bill-obri...</td>\n",
       "      <td>Bill O'Brien, Texans Reach Agreement For Coach...</td>\n",
       "      <td>SPORTS &amp; WELLNESS</td>\n",
       "      <td>Kubiak took over after Capers was fired follow...</td>\n",
       "      <td></td>\n",
       "      <td>2014-01-01</td>\n",
       "    </tr>\n",
       "  </tbody>\n",
       "</table>\n",
       "</div>"
      ],
      "text/plain": [
       "                                                link  \\\n",
       "0  https://www.huffingtonpost.com/entry/tiffany-h...   \n",
       "1  https://www.huffingtonpost.com/entry/samantha-...   \n",
       "2  https://www.huffingtonpost.com/entry/the-artis...   \n",
       "3  https://www.huffingtonpost.com/entry/whats-the...   \n",
       "4  https://www.huffingtonpost.com/entry/bill-obri...   \n",
       "\n",
       "                                            headline                category  \\\n",
       "0  Tiffany Haddish Has Dating Tips For Guys, And ...           ENTERTAINMENT   \n",
       "1  Samantha Bee Sums Up Ivanka Trump's New White ...           ENTERTAINMENT   \n",
       "2  The Artist Behind Controversial Michael Brown ...  ARTS, CULTURE & TRAVEL   \n",
       "3                          What's the Exit Strategy?         NEWS & POLITICS   \n",
       "4  Bill O'Brien, Texans Reach Agreement For Coach...       SPORTS & WELLNESS   \n",
       "\n",
       "                                   short_description  \\\n",
       "0  The \"Girls Trip\" actress gives the definitive ...   \n",
       "1  The late night host examined how President Tru...   \n",
       "2  How should we respond when a white artist appr...   \n",
       "3                          What's the Exit Strategy?   \n",
       "4  Kubiak took over after Capers was fired follow...   \n",
       "\n",
       "                                             authors        date  \n",
       "0                                         Ron Dicker  2018-03-27  \n",
       "1                                          Lee Moran  2017-04-06  \n",
       "2                                    Priscilla Frank  2015-07-16  \n",
       "3  Mike Smith, ContributorLas Vegas Sun’s editori...  2014-09-27  \n",
       "4                                                     2014-01-01  "
      ]
     },
     "execution_count": 48,
     "metadata": {},
     "output_type": "execute_result"
    }
   ],
   "source": [
    "# Load training data\n",
    "TRAIN_LOC = \"../datasets/train.csv\"\n",
    "train_df = pd.read_csv(TRAIN_LOC, keep_default_na=False)\n",
    "train_df.head()"
   ]
  },
  {
   "cell_type": "code",
   "execution_count": 49,
   "id": "d8ff43d0-20b1-490e-a5d7-465b46aa94b3",
   "metadata": {},
   "outputs": [
    {
     "data": {
      "text/plain": [
       "category\n",
       "NEWS & POLITICS           39543\n",
       "SPORTS & WELLNESS         25258\n",
       "ENTERTAINMENT             19347\n",
       "ARTS, CULTURE & TRAVEL    11749\n",
       "PARENTING                 10834\n",
       "EDUCATION                  5498\n",
       "Name: count, dtype: int64"
      ]
     },
     "execution_count": 49,
     "metadata": {},
     "output_type": "execute_result"
    }
   ],
   "source": [
    "train_df['category'].value_counts()"
   ]
  },
  {
   "cell_type": "code",
   "execution_count": 50,
   "id": "2db18e18-742f-4bd7-95ee-73e530adb185",
   "metadata": {},
   "outputs": [],
   "source": [
    "train_ds, val_ds = split_train_test(train_df, strat_cols=\"category\", test_size = 0.2, num_samples = 100)"
   ]
  },
  {
   "cell_type": "code",
   "execution_count": 51,
   "id": "f27d3520-3bca-41f0-b3fc-39a87203d1d7",
   "metadata": {},
   "outputs": [
    {
     "data": {
      "text/html": [
       "<div>\n",
       "<style scoped>\n",
       "    .dataframe tbody tr th:only-of-type {\n",
       "        vertical-align: middle;\n",
       "    }\n",
       "\n",
       "    .dataframe tbody tr th {\n",
       "        vertical-align: top;\n",
       "    }\n",
       "\n",
       "    .dataframe thead th {\n",
       "        text-align: right;\n",
       "    }\n",
       "</style>\n",
       "<table border=\"1\" class=\"dataframe\">\n",
       "  <thead>\n",
       "    <tr style=\"text-align: right;\">\n",
       "      <th></th>\n",
       "      <th>link</th>\n",
       "      <th>headline</th>\n",
       "      <th>category</th>\n",
       "      <th>short_description</th>\n",
       "      <th>authors</th>\n",
       "      <th>date</th>\n",
       "    </tr>\n",
       "  </thead>\n",
       "  <tbody>\n",
       "    <tr>\n",
       "      <th>76425</th>\n",
       "      <td>https://www.huffingtonpost.com/entry/snoring-b...</td>\n",
       "      <td>Loud, Persistent Snoring Linked With Behaviora...</td>\n",
       "      <td>SPORTS &amp; WELLNESS</td>\n",
       "      <td>Researchers at Albert Einstein College of Medi...</td>\n",
       "      <td></td>\n",
       "      <td>2012-08-13</td>\n",
       "    </tr>\n",
       "    <tr>\n",
       "      <th>66456</th>\n",
       "      <td>https://www.huffingtonpost.com/entry/chelsea-m...</td>\n",
       "      <td>Chelsea Manning Begins Hunger Strike: 'I Need ...</td>\n",
       "      <td>NEWS &amp; POLITICS</td>\n",
       "      <td>“Until I am shown dignity and respect as a hum...</td>\n",
       "      <td>Mollie Reilly</td>\n",
       "      <td>2016-09-09</td>\n",
       "    </tr>\n",
       "    <tr>\n",
       "      <th>50005</th>\n",
       "      <td>https://www.huffingtonpost.com/entry/will-cong...</td>\n",
       "      <td>Will Congressional Democrats Give Trump Cover ...</td>\n",
       "      <td>NEWS &amp; POLITICS</td>\n",
       "      <td>Donald Trump and his administration are on a r...</td>\n",
       "      <td>Tyler Cullis, ContributorLegal Fellow, Nationa...</td>\n",
       "      <td>2017-05-15</td>\n",
       "    </tr>\n",
       "    <tr>\n",
       "      <th>53614</th>\n",
       "      <td>https://www.huffingtonpost.com/entry/loretta-s...</td>\n",
       "      <td>Senate Candidate Takes Heat For Implying Obama...</td>\n",
       "      <td>NEWS &amp; POLITICS</td>\n",
       "      <td>Oops!</td>\n",
       "      <td>Daniel Marans</td>\n",
       "      <td>2016-07-23</td>\n",
       "    </tr>\n",
       "    <tr>\n",
       "      <th>25432</th>\n",
       "      <td>https://www.huffingtonpost.com/entry/happiness...</td>\n",
       "      <td>10 Ways to Worry Less</td>\n",
       "      <td>SPORTS &amp; WELLNESS</td>\n",
       "      <td>Imagine that you're floating away and viewing ...</td>\n",
       "      <td>Lisabeth Saunders Medlock, Ph.D., Contributor\\...</td>\n",
       "      <td>2013-11-13</td>\n",
       "    </tr>\n",
       "  </tbody>\n",
       "</table>\n",
       "</div>"
      ],
      "text/plain": [
       "                                                    link  \\\n",
       "76425  https://www.huffingtonpost.com/entry/snoring-b...   \n",
       "66456  https://www.huffingtonpost.com/entry/chelsea-m...   \n",
       "50005  https://www.huffingtonpost.com/entry/will-cong...   \n",
       "53614  https://www.huffingtonpost.com/entry/loretta-s...   \n",
       "25432  https://www.huffingtonpost.com/entry/happiness...   \n",
       "\n",
       "                                                headline           category  \\\n",
       "76425  Loud, Persistent Snoring Linked With Behaviora...  SPORTS & WELLNESS   \n",
       "66456  Chelsea Manning Begins Hunger Strike: 'I Need ...    NEWS & POLITICS   \n",
       "50005  Will Congressional Democrats Give Trump Cover ...    NEWS & POLITICS   \n",
       "53614  Senate Candidate Takes Heat For Implying Obama...    NEWS & POLITICS   \n",
       "25432                              10 Ways to Worry Less  SPORTS & WELLNESS   \n",
       "\n",
       "                                       short_description  \\\n",
       "76425  Researchers at Albert Einstein College of Medi...   \n",
       "66456  “Until I am shown dignity and respect as a hum...   \n",
       "50005  Donald Trump and his administration are on a r...   \n",
       "53614                                              Oops!   \n",
       "25432  Imagine that you're floating away and viewing ...   \n",
       "\n",
       "                                                 authors        date  \n",
       "76425                                                     2012-08-13  \n",
       "66456                                      Mollie Reilly  2016-09-09  \n",
       "50005  Tyler Cullis, ContributorLegal Fellow, Nationa...  2017-05-15  \n",
       "53614                                      Daniel Marans  2016-07-23  \n",
       "25432  Lisabeth Saunders Medlock, Ph.D., Contributor\\...  2013-11-13  "
      ]
     },
     "execution_count": 51,
     "metadata": {},
     "output_type": "execute_result"
    }
   ],
   "source": [
    "train_ds.head()"
   ]
  },
  {
   "cell_type": "code",
   "execution_count": 52,
   "id": "e615587c-0c76-4b2f-9c14-d97fba0d2ebf",
   "metadata": {},
   "outputs": [
    {
     "data": {
      "text/plain": [
       "category\n",
       "NEWS & POLITICS           29\n",
       "SPORTS & WELLNESS         14\n",
       "ENTERTAINMENT             14\n",
       "PARENTING                 12\n",
       "ARTS, CULTURE & TRAVEL     9\n",
       "EDUCATION                  2\n",
       "Name: count, dtype: int64"
      ]
     },
     "execution_count": 52,
     "metadata": {},
     "output_type": "execute_result"
    }
   ],
   "source": [
    "train_ds['category'].value_counts()"
   ]
  },
  {
   "cell_type": "code",
   "execution_count": 53,
   "id": "947de8b6-9e00-4440-915e-a2ff97c7663c",
   "metadata": {},
   "outputs": [
    {
     "name": "stdout",
     "output_type": "stream",
     "text": [
      "{'SPORTS & WELLNESS': 0, 'NEWS & POLITICS': 1, 'PARENTING': 2, 'ENTERTAINMENT': 3, 'ARTS, CULTURE & TRAVEL': 4, 'EDUCATION': 5}\n",
      "{0: 'SPORTS & WELLNESS', 1: 'NEWS & POLITICS', 2: 'PARENTING', 3: 'ENTERTAINMENT', 4: 'ARTS, CULTURE & TRAVEL', 5: 'EDUCATION'}\n"
     ]
    }
   ],
   "source": [
    "class_to_index, index_to_class= encode(train_ds)\n",
    "print(class_to_index)\n",
    "print(index_to_class)"
   ]
  },
  {
   "cell_type": "code",
   "execution_count": 54,
   "id": "d02cec06-fce4-41a0-bb73-94e6cd95f449",
   "metadata": {},
   "outputs": [],
   "source": [
    "outputs = preprocess(train_ds, class_to_index=class_to_index)"
   ]
  },
  {
   "cell_type": "code",
   "execution_count": 55,
   "id": "fa1620f3-e67b-4514-94ce-4c5f987b25ca",
   "metadata": {},
   "outputs": [
    {
     "data": {
      "text/plain": [
       "({'input_ids': <tf.Tensor: shape=(80, 54), dtype=int32, numpy=\n",
       "  array([[  101,  5189, 14516, ...,     0,     0,     0],\n",
       "         [  101,  9295, 11956, ...,     0,     0,     0],\n",
       "         [  101,  2097,  7740, ...,     0,     0,     0],\n",
       "         ...,\n",
       "         [  101,  2798, 11286, ...,     0,     0,     0],\n",
       "         [  101,  5169,  5008, ...,     0,     0,     0],\n",
       "         [  101,  1019, 23019, ...,     0,     0,     0]], dtype=int32)>,\n",
       "  'attention_mask': <tf.Tensor: shape=(80, 54), dtype=int32, numpy=\n",
       "  array([[1, 1, 1, ..., 0, 0, 0],\n",
       "         [1, 1, 1, ..., 0, 0, 0],\n",
       "         [1, 1, 1, ..., 0, 0, 0],\n",
       "         ...,\n",
       "         [1, 1, 1, ..., 0, 0, 0],\n",
       "         [1, 1, 1, ..., 0, 0, 0],\n",
       "         [1, 1, 1, ..., 0, 0, 0]], dtype=int32)>},\n",
       " <tf.Tensor: shape=(80,), dtype=int64, numpy=\n",
       " array([0, 1, 1, 1, 0, 1, 2, 3, 2, 2, 4, 4, 3, 3, 0, 3, 4, 3, 1, 0, 1, 4,\n",
       "        0, 0, 5, 4, 3, 5, 2, 1, 2, 1, 0, 1, 1, 3, 1, 2, 1, 0, 4, 0, 1, 2,\n",
       "        1, 3, 1, 1, 1, 1, 1, 1, 4, 1, 2, 1, 0, 1, 0, 1, 2, 0, 1, 3, 4, 2,\n",
       "        3, 3, 0, 4, 3, 3, 3, 1, 2, 1, 1, 0, 1, 2])>)"
      ]
     },
     "execution_count": 55,
     "metadata": {},
     "output_type": "execute_result"
    }
   ],
   "source": [
    "outputs"
   ]
  },
  {
   "cell_type": "code",
   "execution_count": 56,
   "id": "e63965a9-f62b-49c2-aaeb-7c04665fe55c",
   "metadata": {},
   "outputs": [],
   "source": [
    "val_outputs = preprocess(val_ds, class_to_index=class_to_index)"
   ]
  },
  {
   "cell_type": "code",
   "execution_count": 57,
   "id": "a2f9a9a5-0530-463b-a8bb-69a00710e9f7",
   "metadata": {},
   "outputs": [
    {
     "data": {
      "text/plain": [
       "2"
      ]
     },
     "execution_count": 57,
     "metadata": {},
     "output_type": "execute_result"
    }
   ],
   "source": [
    "len(val_outputs)"
   ]
  },
  {
   "cell_type": "markdown",
   "id": "16f28881-94d5-415f-874c-7c0ff4677a87",
   "metadata": {},
   "source": [
    "### TRAINING"
   ]
  },
  {
   "cell_type": "code",
   "execution_count": null,
   "id": "33f444e7-8d90-4d95-8b6a-aa07a58c257a",
   "metadata": {},
   "outputs": [],
   "source": []
  },
  {
   "cell_type": "code",
   "execution_count": null,
   "id": "6da2b1e1-57e9-488a-b6d5-2075e9d21f87",
   "metadata": {},
   "outputs": [],
   "source": [
    "import os\n",
    "import google.generativeai as genai"
   ]
  },
  {
   "cell_type": "code",
   "execution_count": null,
   "id": "1edf366c-fb51-4d7c-bab5-434f8acb7151",
   "metadata": {},
   "outputs": [],
   "source": [
    "api_key = os.environ.get(\"GEMINI_API_KEY\")\n",
    "genai.configure(api_key=api_key)"
   ]
  },
  {
   "cell_type": "code",
   "execution_count": null,
   "id": "18b19003-450b-4187-b51d-30275d9b5899",
   "metadata": {
    "scrolled": true
   },
   "outputs": [],
   "source": [
    "model = genai.GenerativeModel(\"gemini-1.5-flash\")\n",
    "response = model.generate_content(\"Explain how AI works\")\n",
    "print(response.text)"
   ]
  },
  {
   "cell_type": "code",
   "execution_count": null,
   "id": "457d98d3-0f87-488b-ae14-42b8a751b6e1",
   "metadata": {},
   "outputs": [],
   "source": [
    "# Load training data\n",
    "TRAIN_LOC = \"../datasets/train.csv\"\n",
    "train_df = pd.read_csv(TRAIN_LOC, keep_default_na=False)\n",
    "train_df.head()"
   ]
  },
  {
   "cell_type": "code",
   "execution_count": null,
   "id": "e3985b8f-a9b4-49eb-a59f-9e3f13980775",
   "metadata": {},
   "outputs": [],
   "source": [
    "HOLDOUT_LOC = \"../datasets/holdout.csv\"\n",
    "holdout_df = pd.read_csv(HOLDOUT_LOC, keep_default_na=False)\n",
    "holdout_df.head()"
   ]
  },
  {
   "cell_type": "code",
   "execution_count": null,
   "id": "13149e1f-0edc-4430-8e00-d9693f3bab46",
   "metadata": {},
   "outputs": [],
   "source": [
    "model = genai.GenerativeModel(\"gemini-1.5-flash\", system_instruction=\"you only answer in rhymes\")\n",
    "chat = model.start_chat()\n",
    "message = \"{how are you}\"\n",
    "response = chat.send_message(message, stream=True)\n",
    "for chunks in response:\n",
    "    print(chunks.text, end=\"\")"
   ]
  },
  {
   "cell_type": "code",
   "execution_count": null,
   "id": "254e7b03-aa88-4dab-8c9b-be75aa170d71",
   "metadata": {},
   "outputs": [],
   "source": [
    "def strip_braces(description):\n",
    "    \"\"\"\n",
    "    Strip braces curly braces from an input.\n",
    "    Args:\n",
    "        description: a given user input string\n",
    "\n",
    "    Returns:\n",
    "        A string with stripped data\n",
    "    \"\"\"\n",
    "    return re.sub(r\"{'|}'|'\", \"\", description)"
   ]
  },
  {
   "cell_type": "code",
   "execution_count": null,
   "id": "28ccad66-d2ee-49bf-b55e-e78ba6e02c9c",
   "metadata": {},
   "outputs": [],
   "source": [
    "categories = train_df.category.unique().tolist()\n",
    "headline = train_df.head()[\"headline\"].tolist()[2]\n",
    "description = train_df.head()[\"short_description\"].tolist()\n",
    "\n",
    "# One shots message\n",
    "system_message = f\"\"\"\n",
    "                    You are a great journalist tasked with classifying news content given a list of headline and description.\n",
    "                    You must make predictions from the following specified catgories: {categories}.\n",
    "                    You must only respond with the category and nothing else\n",
    "    \n",
    "                    \"\"\""
   ]
  },
  {
   "cell_type": "code",
   "execution_count": null,
   "id": "be4a92c7-3d81-431b-a454-78ce03ef2cd1",
   "metadata": {},
   "outputs": [],
   "source": [
    "def predict_category(model, system_message=\"\", user_prompt=\"\"):\n",
    "    try:\n",
    "        # Get response from GEMINI\n",
    "        model = genai.GenerativeModel(model, system_instruction=system_message)\n",
    "        chat = model.start_chat()\n",
    "        response = chat.send_message(user_prompt)\n",
    "        print(response.text)\n",
    "        \n",
    "    except Exception as e:\n",
    "        return None"
   ]
  },
  {
   "cell_type": "code",
   "execution_count": null,
   "id": "2908abda-1d11-4e7a-a8a0-ff91c7063225",
   "metadata": {},
   "outputs": [],
   "source": [
    "message = f\"headline: {headline} description: {description}\"\n",
    "model = \"gemini-1.5-flash\"\n",
    "predict_category(model, system_message=system_message, user_message=message)"
   ]
  },
  {
   "cell_type": "code",
   "execution_count": null,
   "id": "e73734de-bae4-4294-9059-965793d1e087",
   "metadata": {},
   "outputs": [],
   "source": [
    "import random\n",
    "import time\n",
    "from tqdm import tqdm\n",
    "from collections import Counter\n",
    "import seaborn as sns; sns.set_theme()\n",
    "from sklearn.metrics import precision_recall_fscore_support\n"
   ]
  },
  {
   "cell_type": "code",
   "execution_count": null,
   "id": "ec7f1b10-7571-4a0f-baad-ad45b3ba2c61",
   "metadata": {},
   "outputs": [],
   "source": [
    "model_name = \"gemini-1.5-flash\"\n",
    "\n",
    "categories = train_df.category.unique().tolist()\n",
    "\n",
    "# Few shot message\n",
    "system_message = system_message = f\"\"\"\n",
    "                    You are a great journalist tasked with classifying news content given a list of headline and description.\n",
    "                    You must make predictions from the following specified catgories: {categories}.\n",
    "                    You must only respond with the category and nothing else\n",
    "                    Example1: headline: Beyonce, Vanessa Williams, Alicia Keys And More: The Week's Best Style Moments (PHOTOS) \n",
    "                    description: A combination of Beyonce, Alicia Keys, Vanessa Williams and the NAACP Image Awards made for a super stylish week! Last but \"\n",
    "                    Answer: BLACK VOICES\n",
    "                    \"\"\"\n",
    "\n",
    "inputs = train_df[[\"headline\", \"short_description\"]].to_dict(orient=\"records\")[10:60]\n",
    "y_true = train_df[\"category\"].tolist()[10:60]"
   ]
  },
  {
   "cell_type": "code",
   "execution_count": null,
   "id": "17309cce-d03c-4ce4-a9d5-38162ce3ffc8",
   "metadata": {},
   "outputs": [],
   "source": [
    "def exponential_backoff(retries=5, initial_delay=1):\n",
    "    \"\"\"\n",
    "    Implements exponential backoff with jitter.\n",
    "\n",
    "    Args:\n",
    "        retries (int, optional): Maximum number of retries. Defaults to 5.\n",
    "        initial_delay (int, optional): Initial delay in seconds. Defaults to 1.\n",
    "\n",
    "    Yields:\n",
    "        float: The sleep duration in seconds.\n",
    "    \"\"\"\n",
    "    for i in range(retries):\n",
    "        delay = initial_delay * (2 ** i) + random.uniform(0, 1)\n",
    "        yield delay\n",
    "\n",
    "\n",
    "        \n",
    "def predict_category(model_name, system_message=\"\", user_prompt=\"\"):\n",
    "    headline = user_prompt.get(\"headline\", \"\")\n",
    "    description = user_prompt.get(\"short_description\", \"\")\n",
    "\n",
    "    user_prompt = f\"headline: {headline} short_description: {description}\"\n",
    "    \n",
    "    try:\n",
    "        # Get response from GEMINI\n",
    "        model = genai.GenerativeModel(model_name, system_instruction=system_message)\n",
    "        chat = model.start_chat()\n",
    "        response = chat.send_message(user_prompt)\n",
    "        return response.text\n",
    "        # print(response.text)\n",
    "        \n",
    "    except Exception as e:\n",
    "        print(f\"Exception occured: {e}\")\n",
    "        return None\n",
    "\n",
    "def get_predictions( model_name, system_message=\"\", inputs=\"\"):\n",
    "    y_pred = []\n",
    "    for item in tqdm(inputs):\n",
    "        # Get prediction\n",
    "        predicted_category = predict_category(\n",
    "            model_name=model_name, system_message=system_message,\n",
    "            user_prompt=item)\n",
    "\n",
    "        # If error, try again after pause (repeatedly until success)\n",
    "        while predicted_category is None:\n",
    "            for delay in exponential_backoff():\n",
    "                print(f\"Sleeping for {delay:.2f} seconds...\")\n",
    "                time.sleep(delay)  # exponential backoff\n",
    "                predicted_category = predict_category(\n",
    "                    model_name=model_name, system_message=system_message,\n",
    "                    user_prompt=item)\n",
    "\n",
    "        # Add to list of predictions\n",
    "        y_pred.append(predicted_category)\n",
    "\n",
    "    return y_pred\n",
    "\n",
    "\n",
    "def plot_category_dist(y_true, y_pred):\n",
    "    # Distribution of categories\n",
    "    true_category_freq = dict(Counter(y_true))\n",
    "    pred_category_freq = dict(Counter(y_pred))\n",
    "    df_true = pd.DataFrame({\"category\": list(true_category_freq.keys()), \"freq\": list(true_category_freq.values()), \"source\": \"true\"})\n",
    "    df_pred = pd.DataFrame({\"category\": list(pred_category_freq.keys()), \"freq\": list(pred_category_freq.values()), \"source\": \"pred\"})\n",
    "    df = pd.concat([df_true, df_pred], ignore_index=True)\n",
    "\n",
    "    # Plot\n",
    "    plt.figure(figsize=(10, 3))\n",
    "    plt.title(\"Tag distribution\", fontsize=14)\n",
    "    ax = sns.barplot(x=\"category\", y=\"freq\", hue=\"source\", data=df)\n",
    "    ax.set_xticklabels(list(true_tag_freq.keys()), rotation=0, fontsize=8)\n",
    "    plt.legend()\n",
    "    plt.show()\n",
    "\n",
    "\n",
    "def detect_hallucinations(y_pred, categories, other =\"other\" ):\n",
    "    for idx, pred in enumerate(y_pred):\n",
    "        if pred not in categories:\n",
    "            y_pred[idx] = other\n",
    "    return y_pred\n",
    "\n",
    "def evaluate(df, model_name, system_message, categories, sample = None):\n",
    "\n",
    "    inputs = df[[\"headline\", \"short_description\"]].to_dict(orient=\"records\")\n",
    "    inputs = inputs[:sample] if sample else inputs\n",
    "    y_true = df[\"category\"].tolist()\n",
    "    y_true = y_true[:sample] if sample else y_true\n",
    "    # Predictions\n",
    "    y_pred = get_predictions(\n",
    "          model_name=model_name,\n",
    "          system_message=system_message,\n",
    "          inputs=inputs\n",
    "    )\n",
    "    \n",
    "    y_pred = detect_hallucinations(y_pred, categories)\n",
    "\n",
    "    # Performance\n",
    "    metrics = precision_recall_fscore_support(y_true, y_pred, average=\"weighted\")\n",
    "    performance = {\"precision\": metrics[0], \"recall\": metrics[1], \"f1\": metrics[2]}\n",
    "    print(json.dumps(performance, indent=2))\n",
    "    plot_category_dist(y_true=y_true, y_pred=y_pred)\n",
    "    return y_pred, performance"
   ]
  },
  {
   "cell_type": "code",
   "execution_count": null,
   "id": "be5a0434-b3ac-47bc-bf7a-ffb5daa45ede",
   "metadata": {},
   "outputs": [],
   "source": [
    "inputs = train_df[[\"headline\", \"short_description\"]].to_dict(orient=\"records\")[1]\n",
    "y_true = train_df[\"category\"].tolist()[1]\n",
    "\n",
    "model_name = \"gemini-1.5-flash\"\n",
    "categories = train_df.category.unique().tolist()\n",
    "\n",
    "# One shots message\n",
    "zero_short_system_message = f\"\"\"\n",
    "                    You are a great journalist tasked with classifying news content given a list of headline and description.\n",
    "                    You must make predictions from the following specified catgories: {categories}.\n",
    "                    You must only respond with the category and nothing else\n",
    "    \n",
    "                    \"\"\""
   ]
  },
  {
   "cell_type": "code",
   "execution_count": null,
   "id": "b7f995f9-1b46-40ee-8728-cee654d83ec9",
   "metadata": {},
   "outputs": [],
   "source": [
    "predict_category(model_name, system_message, inputs)"
   ]
  },
  {
   "cell_type": "code",
   "execution_count": null,
   "id": "292c6bd7-395f-4f6a-9367-36d8229e9b03",
   "metadata": {},
   "outputs": [],
   "source": [
    "print (inputs)\n",
    "print(y_true)"
   ]
  },
  {
   "cell_type": "code",
   "execution_count": null,
   "id": "34188d7b-b42b-4ae4-b692-75727b7f4710",
   "metadata": {},
   "outputs": [],
   "source": [
    "inputs = train_df[[\"headline\", \"short_description\"]].to_dict(orient=\"records\")[1]\n",
    "y_true = train_df[\"category\"].tolist()[1]\n",
    "\n",
    "model_name = \"gemini-1.5-flash\"\n",
    "categories = train_df.category.unique().tolist()\n",
    "\n",
    "# Few shot message\n",
    "few_short_system_message = system_message = f\"\"\"\n",
    "                    You are a great journalist tasked with classifying news content given a text with of headline and description.\n",
    "                    delimited by a colon.\n",
    "                    You must make predictions from the following specified catgories: {categories}.\n",
    "                    You must only respond with the category and nothing else\n",
    "                    Example1: headline: 'Tiffany Haddish Has Dating Tips For Guys, And None Involve Turpentine', \n",
    "                    short_description: 'The \"Girls Trip\" actress gives the definitive answer on whether men should spray cologne on their privates.'\n",
    "                    Answer: ENTERTAINMENT\n",
    "                    \"\"\""
   ]
  },
  {
   "cell_type": "code",
   "execution_count": null,
   "id": "8122648a-be98-49a2-b86c-fdecd7a18064",
   "metadata": {},
   "outputs": [],
   "source": [
    "predict_category(model_name, system_message, inputs)"
   ]
  },
  {
   "cell_type": "code",
   "execution_count": null,
   "id": "e6291b9f-b9ec-4de4-8b41-5b5e51f5e932",
   "metadata": {},
   "outputs": [],
   "source": [
    "inputs = inputs = train_df[[\"headline\", \"short_description\"]].to_dict(orient=\"records\")[:20]\n",
    "y_true = train_df[\"category\"].tolist()[:20]"
   ]
  },
  {
   "cell_type": "code",
   "execution_count": null,
   "id": "97f49c03-4447-4d93-80f2-2903941e8314",
   "metadata": {},
   "outputs": [],
   "source": [
    "y_pred = get_predictions(model_name, system_message, inputs)"
   ]
  },
  {
   "cell_type": "code",
   "execution_count": null,
   "id": "6c507ee7-9c82-4293-9595-a9e0cca84da7",
   "metadata": {},
   "outputs": [],
   "source": [
    "y_pred = {\"zero_shot\": {}, \"few_shot\": {}}\n",
    "performance = {\"zero_shot\": {}, \"few_shot\": {}}"
   ]
  },
  {
   "cell_type": "code",
   "execution_count": null,
   "id": "3a9291e2-32c1-498c-836a-9b2dc14700e5",
   "metadata": {},
   "outputs": [],
   "source": [
    "# try with diff google models and with few shots and zero shot\n",
    "\n",
    "# Zero-shot with gemini 1.5-flash\n",
    "method = \"zero_shot\"\n",
    "model = \"gemini-1.5-flash\n",
    "y_pred[method][model], performance[method][model] = evaluate(\n",
    "    test_df=df, model=model, system_message=zero_short_system_message, categories=categories, sample=50)"
   ]
  },
  {
   "cell_type": "code",
   "execution_count": null,
   "id": "adafcb0a-aa95-4b4c-86e9-de68e49de604",
   "metadata": {},
   "outputs": [],
   "source": [
    "# Zero-shot with gemini 1.5-flash\n",
    "method = \"few_shot\"\n",
    "model = \"gemini-1.5-flash\"\n",
    "y_pred[method][model], performance[method][model] = evaluate(\n",
    "    test_df=df, model=model, system_message=zero_short_system_message, categories=categories, sample=50)"
   ]
  },
  {
   "cell_type": "code",
   "execution_count": null,
   "id": "6beaf455-ebc4-4bb5-8f1c-4c0e3407d4d3",
   "metadata": {},
   "outputs": [],
   "source": [
    "# Zero-shot with gemini 1.5-pro\n",
    "method = \"zero_shot\"\n",
    "model = \"gemini-1.5-pro\"\n",
    "y_pred[method][model], performance[method][model] = evaluate(\n",
    "    test_df=df, model=model, system_message=zero_short_system_message, categories=categories, sample=50"
   ]
  },
  {
   "cell_type": "code",
   "execution_count": null,
   "id": "c8a5b832-08f4-4b43-bd2d-4bc342255090",
   "metadata": {},
   "outputs": [],
   "source": [
    "# Zero-shot with gemini 1.5-pro\n",
    "method = \"few_shot\"\n",
    "model = \"gemini-1.5-pro\"\n",
    "y_pred[method][model], performance[method][model] = evaluate(\n",
    "    test_df=df, model=model, system_message=zero_short_system_message, categories=categories, sample=50"
   ]
  },
  {
   "cell_type": "code",
   "execution_count": 60,
   "id": "9fb6d0e8-3fb4-40ec-9521-e0fa059962b6",
   "metadata": {},
   "outputs": [],
   "source": [
    "import os\n",
    "import random\n",
    "import tempfile\n",
    "from pathlib import Path\n",
    "\n",
    "import numpy as np\n",
    "import mlflow\n",
    "from tensorflow.keras.optimizers import Adam\n",
    "from transformers import BertTokenizer, TFAutoModelForSequenceClassification\n",
    "from tensorflow.keras.optimizers.schedules import PolynomialDecay\n",
    "from tensorflow.keras.metrics import F1Score, Accuracy, Recall,Precision, AUC\n",
    "from newsfeed.data import load_dataframe, split_train_test, preprocess, encode"
   ]
  },
  {
   "cell_type": "code",
   "execution_count": null,
   "id": "197f5f83-86d8-496e-867b-64b05aa142f8",
   "metadata": {},
   "outputs": [
    {
     "name": "stdout",
     "output_type": "stream",
     "text": [
      "[2025-02-03 01:51:56 +0100] [5466] [INFO] Starting gunicorn 23.0.0\n",
      "[2025-02-03 01:51:56 +0100] [5466] [INFO] Listening at: http://127.0.0.1:8080 (5466)\n",
      "[2025-02-03 01:51:56 +0100] [5466] [INFO] Using worker: sync\n",
      "[2025-02-03 01:51:56 +0100] [5467] [INFO] Booting worker with pid: 5467\n",
      "[2025-02-03 01:51:56 +0100] [5468] [INFO] Booting worker with pid: 5468\n",
      "[2025-02-03 01:51:57 +0100] [5469] [INFO] Booting worker with pid: 5469\n",
      "[2025-02-03 01:51:57 +0100] [5470] [INFO] Booting worker with pid: 5470\n"
     ]
    }
   ],
   "source": [
    "#mlflow server --host 127.0.0.1 --port 8080 --backend-store-uri /tmp/mlruns --default-artifact-root /tmp/mlruns/artifacts"
   ]
  },
  {
   "cell_type": "code",
   "execution_count": 3,
   "id": "4de6429e-c813-468c-83db-b3f01b64a422",
   "metadata": {},
   "outputs": [],
   "source": [
    "mlflow.set_tracking_uri(uri=\"http://127.0.0.1:8080\")\n"
   ]
  },
  {
   "cell_type": "code",
   "execution_count": 4,
   "id": "3d4c0f36-7ce8-466b-adfc-915d714ede48",
   "metadata": {},
   "outputs": [],
   "source": [
    "params =  {\"accuracy\":90, \"precision\":78}"
   ]
  },
  {
   "cell_type": "code",
   "execution_count": 5,
   "id": "eb4fc862-5533-4372-8fb2-0d5f8007bbe0",
   "metadata": {},
   "outputs": [
    {
     "name": "stderr",
     "output_type": "stream",
     "text": [
      "2025/02/03 02:05:42 INFO mlflow.tracking.fluent: Experiment with name 'MLflow Quickstart' does not exist. Creating a new experiment.\n"
     ]
    },
    {
     "name": "stdout",
     "output_type": "stream",
     "text": [
      "🏃 View run salty-roo-947 at: http://127.0.0.1:8080/#/experiments/874218065163163518/runs/4d67b93589b04c0f8794bc29a4cf1e9a\n",
      "🧪 View experiment at: http://127.0.0.1:8080/#/experiments/874218065163163518\n"
     ]
    }
   ],
   "source": [
    "# Create a new MLflow Experiment\n",
    "mlflow.set_experiment(\"MLflow Quickstart\")\n",
    "\n",
    "# Start an MLflow run\n",
    "with mlflow.start_run():\n",
    "    # Log the hyperparameters\n",
    "    mlflow.log_params(params)\n",
    "\n",
    "    mlflow.log_artifact(local_path=\"../datasets/\")"
   ]
  },
  {
   "cell_type": "code",
   "execution_count": 83,
   "id": "3d30d838-a5c3-4eca-a997-c476e0246748",
   "metadata": {},
   "outputs": [],
   "source": [
    "# Load training data\n",
    "TRAIN_LOC = \"../datasets/train.csv\"\n",
    "train_df = load_dataframe(TRAIN_LOC)"
   ]
  },
  {
   "cell_type": "code",
   "execution_count": 84,
   "id": "5b787af3-bc45-4159-9df6-6b9ec61b0b0e",
   "metadata": {},
   "outputs": [],
   "source": [
    "train_ds, val_ds = split_train_test(train_df, strat_cols=\"category\", test_size = 0.2, num_samples = 500)"
   ]
  },
  {
   "cell_type": "code",
   "execution_count": 85,
   "id": "60776c61-6e05-4c8b-bf03-7f1c34c3e49d",
   "metadata": {},
   "outputs": [
    {
     "name": "stdout",
     "output_type": "stream",
     "text": [
      "{'NEWS & POLITICS': 0, 'ARTS, CULTURE & TRAVEL': 1, 'SPORTS & WELLNESS': 2, 'ENTERTAINMENT': 3, 'PARENTING': 4, 'EDUCATION': 5}\n"
     ]
    }
   ],
   "source": [
    "class_to_index, index_to_class= encode(train_ds)\n",
    "print(class_to_index)"
   ]
  },
  {
   "cell_type": "code",
   "execution_count": 86,
   "id": "3b371a9f-c694-430b-87e6-2bb59f4861a2",
   "metadata": {},
   "outputs": [],
   "source": [
    "train_outputs = preprocess(train_ds, class_index=class_to_index)\n",
    "val_outputs = preprocess(val_ds, class_index=class_to_index)"
   ]
  },
  {
   "cell_type": "code",
   "execution_count": 87,
   "id": "f23e46ba-0d5f-4cec-8d45-b9c52858b67d",
   "metadata": {},
   "outputs": [
    {
     "data": {
      "text/plain": [
       "({'input_ids': <tf.Tensor: shape=(400, 54), dtype=int32, numpy=\n",
       "  array([[  101, 14566,  2703, ...,     0,     0,     0],\n",
       "         [  101,  2260,  4800, ...,     0,     0,     0],\n",
       "         [  101,  2925, 10304, ...,     0,     0,     0],\n",
       "         ...,\n",
       "         [  101, 14017, 10074, ...,     0,     0,     0],\n",
       "         [  101, 18024,  9185, ...,     0,     0,     0],\n",
       "         [  101,  7187,  4862, ...,     0,     0,     0]], dtype=int32)>,\n",
       "  'attention_mask': <tf.Tensor: shape=(400, 54), dtype=int32, numpy=\n",
       "  array([[1, 1, 1, ..., 0, 0, 0],\n",
       "         [1, 1, 1, ..., 0, 0, 0],\n",
       "         [1, 1, 1, ..., 0, 0, 0],\n",
       "         ...,\n",
       "         [1, 1, 1, ..., 0, 0, 0],\n",
       "         [1, 1, 1, ..., 0, 0, 0],\n",
       "         [1, 1, 1, ..., 0, 0, 0]], dtype=int32)>},\n",
       " <tf.Tensor: shape=(400,), dtype=int64, numpy=\n",
       " array([0, 1, 1, 2, 3, 2, 0, 1, 0, 2, 1, 3, 0, 2, 2, 0, 2, 0, 4, 0, 3, 2,\n",
       "        4, 0, 0, 0, 0, 3, 1, 3, 2, 0, 4, 2, 3, 2, 4, 1, 0, 0, 2, 0, 2, 2,\n",
       "        2, 3, 1, 2, 0, 1, 1, 1, 3, 4, 0, 0, 1, 0, 0, 2, 0, 2, 1, 3, 2, 3,\n",
       "        0, 0, 1, 3, 2, 0, 0, 0, 3, 2, 0, 2, 4, 2, 3, 2, 0, 0, 4, 0, 2, 3,\n",
       "        2, 0, 0, 0, 3, 1, 0, 4, 4, 2, 3, 0, 4, 3, 0, 1, 0, 2, 2, 2, 2, 4,\n",
       "        4, 3, 1, 0, 1, 0, 2, 0, 0, 5, 0, 0, 2, 4, 1, 0, 0, 3, 0, 2, 2, 0,\n",
       "        0, 0, 1, 1, 3, 3, 3, 0, 2, 0, 2, 2, 0, 3, 0, 3, 0, 0, 3, 2, 1, 0,\n",
       "        4, 4, 1, 1, 4, 0, 0, 0, 0, 0, 0, 3, 3, 0, 0, 0, 3, 3, 2, 3, 4, 2,\n",
       "        3, 1, 0, 0, 2, 1, 5, 0, 2, 3, 2, 5, 1, 1, 0, 0, 2, 3, 0, 2, 0, 3,\n",
       "        4, 0, 0, 0, 4, 0, 1, 0, 0, 0, 0, 4, 5, 3, 1, 2, 2, 0, 3, 3, 0, 2,\n",
       "        0, 3, 3, 2, 3, 4, 2, 1, 2, 3, 0, 2, 3, 2, 0, 0, 2, 3, 4, 3, 2, 3,\n",
       "        0, 0, 0, 0, 3, 0, 3, 5, 3, 0, 5, 1, 2, 4, 3, 1, 0, 5, 0, 1, 3, 5,\n",
       "        0, 0, 3, 2, 2, 1, 0, 5, 1, 3, 3, 0, 0, 3, 2, 0, 0, 0, 0, 3, 0, 0,\n",
       "        3, 0, 2, 0, 4, 2, 0, 0, 4, 3, 3, 3, 4, 3, 4, 4, 3, 2, 5, 3, 1, 0,\n",
       "        2, 3, 2, 0, 2, 3, 5, 1, 3, 0, 1, 0, 4, 5, 2, 2, 3, 3, 4, 3, 5, 0,\n",
       "        2, 0, 0, 0, 5, 0, 2, 3, 0, 0, 4, 3, 1, 0, 2, 2, 0, 2, 1, 4, 2, 0,\n",
       "        5, 1, 0, 0, 2, 5, 3, 4, 3, 4, 3, 0, 2, 1, 3, 5, 0, 0, 2, 3, 0, 0,\n",
       "        5, 2, 0, 2, 5, 0, 4, 4, 0, 2, 0, 4, 3, 1, 0, 4, 1, 0, 0, 0, 2, 3,\n",
       "        3, 5, 5, 2])>)"
      ]
     },
     "execution_count": 87,
     "metadata": {},
     "output_type": "execute_result"
    }
   ],
   "source": [
    "train_outputs"
   ]
  },
  {
   "cell_type": "code",
   "execution_count": 88,
   "id": "c4fcb64e-e74a-4769-8bf4-52e9a1ff72ce",
   "metadata": {},
   "outputs": [],
   "source": [
    "def set_seed(seed=42):\n",
    "    tf.keras.utils.set_random_seed(seed)\n",
    "    tf.config.experimental.enable_op_determinism()"
   ]
  },
  {
   "cell_type": "code",
   "execution_count": 89,
   "id": "0a8800f8-86a7-4461-84c1-56cc0c62d97a",
   "metadata": {},
   "outputs": [],
   "source": [
    "set_seed()"
   ]
  },
  {
   "cell_type": "code",
   "execution_count": 90,
   "id": "6874141c-cab8-42c1-ab6a-7c0ef5a3a072",
   "metadata": {},
   "outputs": [],
   "source": [
    "model_name = 'bert-base-uncased'"
   ]
  },
  {
   "cell_type": "code",
   "execution_count": 76,
   "id": "5a40ecb5-66be-4f1d-9259-e47bb6dd75ba",
   "metadata": {},
   "outputs": [],
   "source": [
    "tokenizer = BertTokenizer.from_pretrained(model_name, return_dict= False)"
   ]
  },
  {
   "cell_type": "code",
   "execution_count": 91,
   "id": "9d69d04e-7b80-48e0-9fdc-ab34a47891c2",
   "metadata": {},
   "outputs": [
    {
     "name": "stderr",
     "output_type": "stream",
     "text": [
      "2025-02-03 15:46:12.508672: W external/local_xla/xla/tsl/framework/cpu_allocator_impl.cc:83] Allocation of 93763584 exceeds 10% of free system memory.\n",
      "All PyTorch model weights were used when initializing TFBertForSequenceClassification.\n",
      "\n",
      "Some weights or buffers of the TF 2.0 model TFBertForSequenceClassification were not initialized from the PyTorch model and are newly initialized: ['classifier.weight', 'classifier.bias']\n",
      "You should probably TRAIN this model on a down-stream task to be able to use it for predictions and inference.\n"
     ]
    }
   ],
   "source": [
    "bert_llm = TFAutoModelForSequenceClassification.from_pretrained(model_name, num_labels= 6)"
   ]
  },
  {
   "cell_type": "code",
   "execution_count": 59,
   "id": "4dd17ecb-db22-44ba-9f0c-693d7331dd9f",
   "metadata": {},
   "outputs": [
    {
     "name": "stdout",
     "output_type": "stream",
     "text": [
      "{'input_ids': <tf.Tensor: shape=(1, 10), dtype=int32, numpy=\n",
      "array([[  101,  4651,  4083,  2007, 19081,  2005,  3793,  5579,  1012,\n",
      "          102]], dtype=int32)>, 'token_type_ids': <tf.Tensor: shape=(1, 10), dtype=int32, numpy=array([[0, 0, 0, 0, 0, 0, 0, 0, 0, 0]], dtype=int32)>, 'attention_mask': <tf.Tensor: shape=(1, 10), dtype=int32, numpy=array([[1, 1, 1, 1, 1, 1, 1, 1, 1, 1]], dtype=int32)>}\n"
     ]
    }
   ],
   "source": [
    "text = \"Transfer learning with transformers for text classification.\"\n",
    "batch = tokenizer([text], return_tensors=\"tf\", padding=\"longest\")\n",
    "print (batch)"
   ]
  },
  {
   "cell_type": "code",
   "execution_count": 92,
   "id": "1beb6668-e5e0-4578-a36c-a05c2f7c9077",
   "metadata": {},
   "outputs": [],
   "source": [
    "# Convert to tensorflow dataset\n",
    "train_dataset = tf.data.Dataset.from_tensor_slices(train_outputs)\n",
    "val_dataset = tf.data.Dataset.from_tensor_slices(val_outputs)"
   ]
  },
  {
   "cell_type": "code",
   "execution_count": 93,
   "id": "e3a8eb80-acea-419f-b75f-34ed632691ff",
   "metadata": {},
   "outputs": [],
   "source": [
    "batch_size = 16\n",
    "\n",
    "train_dataset = train_dataset.batch(batch_size)\n",
    "val_dataset = val_dataset.batch(batch_size)\n"
   ]
  },
  {
   "cell_type": "code",
   "execution_count": 94,
   "id": "63ad096c-0c18-4ee1-9fd9-7c39c004a4d0",
   "metadata": {},
   "outputs": [],
   "source": [
    "data_size = len(train_outputs[0]['input_ids'])\n",
    "\n",
    "config = {\n",
    "    \"num_classses\": 6,\n",
    "    'learning_rate': 5e-5,\n",
    "    'num_epcohs': 3,\n",
    "    'batch_size': 64,\n",
    "}\n",
    "\n",
    "\n",
    "loss = tf.keras.losses.SparseCategoricalCrossentropy(from_logits= True)\n",
    "num_train_steps = data_size * config['num_epcohs']\n",
    "\n",
    "lr_scheduler = PolynomialDecay(\n",
    "    initial_learning_rate=5e-5,\n",
    "    end_learning_rate=0.0,\n",
    "    decay_steps=num_train_steps\n",
    ")\n",
    "\n",
    "optimizer = Adam(learning_rate=lr_scheduler)\n",
    "\n",
    "metrics = tf.keras.metrics.SparseCategoricalAccuracy('accuracy') #['accuracy', 'recall', 'precision']\n"
   ]
  },
  {
   "cell_type": "code",
   "execution_count": 95,
   "id": "8b75105f-ba15-494e-9ec0-672271fc75a2",
   "metadata": {},
   "outputs": [],
   "source": [
    "bert_llm.compile(optimizer=optimizer, loss=loss, metrics = [metrics])"
   ]
  },
  {
   "cell_type": "code",
   "execution_count": 96,
   "id": "6b4ef49e-cc8e-48fa-ab3f-e788c8b5f298",
   "metadata": {},
   "outputs": [
    {
     "name": "stdout",
     "output_type": "stream",
     "text": [
      "Model: \"tf_bert_for_sequence_classification_1\"\n",
      "_________________________________________________________________\n",
      " Layer (type)                Output Shape              Param #   \n",
      "=================================================================\n",
      " bert (TFBertMainLayer)      multiple                  109482240 \n",
      "                                                                 \n",
      " dropout_75 (Dropout)        multiple                  0 (unused)\n",
      "                                                                 \n",
      " classifier (Dense)          multiple                  4614      \n",
      "                                                                 \n",
      "=================================================================\n",
      "Total params: 109486854 (417.66 MB)\n",
      "Trainable params: 109486854 (417.66 MB)\n",
      "Non-trainable params: 0 (0.00 Byte)\n",
      "_________________________________________________________________\n"
     ]
    }
   ],
   "source": [
    "bert_llm.summary()"
   ]
  },
  {
   "cell_type": "code",
   "execution_count": null,
   "id": "120edecd-42c7-45a7-a1fd-6ad8f4f2d8e3",
   "metadata": {},
   "outputs": [
    {
     "name": "stdout",
     "output_type": "stream",
     "text": [
      "Epoch 1/3\n",
      " 1/25 [>.............................] - ETA: 21:27 - loss: 1.8652 - accuracy: 0.1875"
     ]
    }
   ],
   "source": [
    "# Train the model\n",
    "epochs = 3\n",
    "history = bert_llm.fit(\n",
    "    train_dataset,\n",
    "    validation_data=val_dataset,\n",
    "    epochs=epochs\n",
    ")"
   ]
  },
  {
   "cell_type": "code",
   "execution_count": null,
   "id": "84d0e040-d5cc-4296-ba6d-3b582bb08291",
   "metadata": {},
   "outputs": [],
   "source": []
  },
  {
   "cell_type": "code",
   "execution_count": 37,
   "id": "e764c636-1c1e-4f45-a84b-d857e5ef4985",
   "metadata": {},
   "outputs": [],
   "source": [
    "def create_model(\n",
    "    llm,\n",
    "    loss,\n",
    "    config,\n",
    "    metrics,\n",
    "    optimizer=\"adam\"\n",
    "    verbose: bool = False\n",
    "    \n",
    "):\n",
    "   \n",
    "    model.compile(optimizer=optimizer, loss=loss, metrics=metrics )\n",
    "    if verbose:\n",
    "        model.summary()\n",
    "    return model\n",
    "    \n",
    "def fit_model(model, train, val, config):\n",
    "    history = model.fit (\n",
    "        x = train,\n",
    "        batch_size= config.get(\"batch_size\", 64),\n",
    "        validation_data=val\n",
    "                       )\n",
    "    return history"
   ]
  },
  {
   "cell_type": "code",
   "execution_count": null,
   "id": "8d82ad83-ab64-4950-9e5f-fba567975e5b",
   "metadata": {},
   "outputs": [],
   "source": [
    "import tensorflow as tf\n",
    "from transformers import BertTokenizer, TFBertModel\n",
    "\n",
    "class FinetunedLLM:\n",
    "    def __init__(self, llm, drop_out, embedding_dim, num_classes):\n",
    "        self.llm = llm\n",
    "        self.drop_out = drop_out\n",
    "        self.num_classes = num_classes\n",
    "        self.embedding_dim = embedding_dim\n",
    "        \n",
    "    def save_model(self, model_path):\n",
    "        # Save the entire model\n",
    "        self.save_weights(model_path)\n",
    "        print(f\"Model saved at {model_path}\")\n",
    "    \n",
    "    @classmethod\n",
    "    def load_model(cls, model_path, llm, dropout_p, embedding_dim, num_classes):\n",
    "        # Instantiate the model and load weights\n",
    "        model = cls(llm, dropout_p, embedding_dim, num_classes)\n",
    "        model.load_weights(model_path)\n",
    "        print(f\"Model loaded from {model_path}\")\n",
    "        return model"
   ]
  },
  {
   "cell_type": "markdown",
   "id": "971c156e-1663-4826-bad4-30c3c736a9d1",
   "metadata": {},
   "source": [
    "### EVALUATION AND INFERENCE"
   ]
  },
  {
   "cell_type": "code",
   "execution_count": null,
   "id": "0a7384e0-4bdc-417e-89f2-9c1c926c5251",
   "metadata": {},
   "outputs": [],
   "source": [
    "import cleanlab\n",
    "from cleanlab.filter import find_label_issues\n",
    "from snorkel.slicing import PandasSFApplier\n",
    "from snorkel.slicing import slice_dataframe\n",
    "from snorkel.slicing import slicing_function"
   ]
  },
  {
   "cell_type": "code",
   "execution_count": null,
   "id": "1c59881c-2b27-4524-81fe-6083c0366fa6",
   "metadata": {},
   "outputs": [],
   "source": [
    "HOLDOUT_LOC = \"./drive/MyDrive/news/holdout.csv\"\n",
    "test_set = load_dataframe(HOLDOUT_LOC)\n",
    "test_df = test_set.copy()"
   ]
  },
  {
   "cell_type": "code",
   "execution_count": null,
   "id": "ab95b3cf-945e-454d-888d-8e48d9208cf9",
   "metadata": {},
   "outputs": [],
   "source": [
    "test_set = preprocess(test_set, class_to_index)\n",
    "test_set = tf.data.Dataset.from_tensor_slices(test_set)\n",
    "test_set = test_set.batch(batch_size)"
   ]
  },
  {
   "cell_type": "code",
   "execution_count": null,
   "id": "ec9c8acc-5b0e-4e39-b92e-1abbbe14d013",
   "metadata": {},
   "outputs": [],
   "source": [
    "y_true = test_set[1]\n",
    "prediction = model.predict(test_set)\n",
    "logit = prediction.logits\n",
    "y_prob = tf.nn.softmax(logit, axis=-1).numpy()\n",
    "y_pred = np.argmax(y_prob, axis=-1)"
   ]
  },
  {
   "cell_type": "code",
   "execution_count": null,
   "id": "c7673fae-e059-483b-b235-4602ae33fdcb",
   "metadata": {},
   "outputs": [],
   "source": [
    "test_df['predictions'] = decode(y_pred, index_to_class)"
   ]
  },
  {
   "cell_type": "code",
   "execution_count": null,
   "id": "d77a80e0-442d-4e6c-bbd8-9180c4a2110b",
   "metadata": {},
   "outputs": [],
   "source": [
    "metrics = {}\n",
    "class_report = classification_report(y_true, y_pred, target_names=index_to_class.values(), output_dict=True)\n",
    "precision, recall, f1, _ = precision_recall_fscore_support(y_true, y_pred, average=\"weighted\")\n",
    "accuracy = accuracy_score(y_true, y_pred, axis=-1)\n",
    "metrics[\"class_report\"] = class_report\n",
    "metrics[\"aggregate\"] = {\"precision\": precision, \"recall\": recall, \"f1_score\": f1, \"accuracy\": accurcay}\n"
   ]
  },
  {
   "cell_type": "code",
   "execution_count": null,
   "id": "7b3e7880-248f-44dc-ba35-076f1345242d",
   "metadata": {},
   "outputs": [],
   "source": [
    "# Convert integer indices to string labels\n",
    "y_true_str = [index_to_class[x] for x in y_true]\n",
    "y_pred_str = [index_to_class[x] for x in y_pred]\n",
    "labels = list(index_to_class.values())\n",
    "\n",
    "# Generate the confusion matrix\n",
    "cm = confusion_matrix(y_true_str, y_pred_str, labels=labels)\n",
    "disp = ConfusionMatrixDisplay(confusion_matrix=cm, display_labels=labels)\n",
    "disp.plot(cmap=plt.cm.Blues)\n",
    "plt.title('Confusion Matrix', fontsize=15, pad=20)\n",
    "plt.xlabel('Prediction', fontsize=11)\n",
    "plt.ylabel('Actual', fontsize=11)\n",
    "\n",
    "#Customizations\n",
    "plt.gca().xaxis.set_label_position('top')\n",
    "plt.gca().xaxis.tick_top()\n",
    "plt.gca().figure.subplots_adjust(bottom=0.2)\n",
    "plt.gca().figure.text(0.5, 0.05, 'Prediction', ha='center', fontsize=13)\n",
    "\n",
    "plt.show()"
   ]
  },
  {
   "cell_type": "code",
   "execution_count": null,
   "id": "d82663fe-52f9-494b-a0ba-8ecef84a0189",
   "metadata": {},
   "outputs": [],
   "source": [
    "classes = [\n",
    "    \"NEWS & POLITICS\",\n",
    "    \"SPORTS & WELLNESS\",\n",
    "    \"ENTERTAINMENT\",\n",
    "    \"ARTS, CULTURE & TRAVEL\",\n",
    "    \"PARENTING\",\n",
    "    \"EDUCATION\"\n",
    "    ]\n",
    "\n",
    "confusion_class = {}\n",
    "for cat in classes:\n",
    "  index = class_to_index[cat]\n",
    "  tp, fp, fn = [], [], []\n",
    "  for i, true in enumerate(y_true):\n",
    "    pred = y_pred[i]\n",
    "    if index==true==pred:\n",
    "        tp.append(i)\n",
    "    elif index!=true and index==pred:\n",
    "        fp.append(i)\n",
    "    elif index==true and index!=pred:\n",
    "        fn.append(i)\n",
    "  confusion_class[cat] = {\"tp\": (tp, len(tp)), \"fp\": (fp, len(fp)), \"fn\": (fn, len(fn))}\n"
   ]
  },
  {
   "cell_type": "code",
   "execution_count": null,
   "id": "56abc399-6a9a-47d0-bdd7-5836ceaf0783",
   "metadata": {},
   "outputs": [],
   "source": [
    "education = confusion_class[\"EDUCATION\"][\"tp\"][0] + confusion_class[\"EDUCATION\"][\"fp\"][0] + confusion_class[\"EDUCATION\"][\"fn\"][0]\n",
    "test_df.iloc[education].head()"
   ]
  },
  {
   "cell_type": "code",
   "execution_count": null,
   "id": "26c4bd06-2ce7-4f2c-ae50-ecb31830c271",
   "metadata": {},
   "outputs": [],
   "source": [
    "# Find label issues\n",
    "label_issues = find_label_issues(labels=y_true, pred_probs=y_prob, return_indices_ranked_by=\"self_confidence\")\n",
    "test_df.iloc[label_issues].head()"
   ]
  },
  {
   "cell_type": "code",
   "execution_count": null,
   "id": "66a44054-15dd-4b8c-a5a8-47cd3653b1dc",
   "metadata": {},
   "outputs": [],
   "source": [
    "@slicing_function()\n",
    "def short_text(x):\n",
    "    \"\"\"Projects with short titles and descriptions.\"\"\"\n",
    "    return len(x.headline.split()) < 10  # less than 10 words"
   ]
  },
  {
   "cell_type": "code",
   "execution_count": null,
   "id": "a49e6832-7679-4f1a-872c-0a17edfc0f41",
   "metadata": {},
   "outputs": [],
   "source": [
    "short_df = slice_dataframe(test_df, short_text)\n",
    "short_df[[\"headline\", \"category\"]].head()"
   ]
  },
  {
   "cell_type": "code",
   "execution_count": null,
   "id": "7b6b3397-f4c7-4919-8087-92a254e5fdb4",
   "metadata": {},
   "outputs": [],
   "source": [
    "# Slices\n",
    "slicing_functions = [short_text]\n",
    "applier = PandasSFApplier(slicing_functions)\n",
    "slices = applier.apply(test_df)\n",
    "slices"
   ]
  },
  {
   "cell_type": "code",
   "execution_count": null,
   "id": "0783edd7-22f2-4523-9bd3-7e8065e5f131",
   "metadata": {},
   "outputs": [],
   "source": [
    "# Calculater metrics for slices\n",
    "metrics[\"slices\"] = {}\n",
    "for slice_name in slices.dtype.names:\n",
    "    mask = slices[slice_name].astype(bool)\n",
    "    if sum(mask):\n",
    "        slice_metrics = precision_recall_fscore_support(\n",
    "            y_true[mask], y_pred[mask], average=\"micro\"\n",
    "        )\n",
    "        metrics[\"slices\"][slice_name] = {}\n",
    "        metrics[\"slices\"][slice_name][\"precision\"] = slice_metrics[0]\n",
    "        metrics[\"slices\"][slice_name][\"recall\"] = slice_metrics[1]\n",
    "        metrics[\"slices\"][slice_name][\"f1\"] = slice_metrics[2]\n",
    "        metrics[\"slices\"][slice_name][\"num_samples\"] = len(y_true[mask])"
   ]
  },
  {
   "cell_type": "code",
   "execution_count": null,
   "id": "87841f2f-e45d-42d6-aaf0-cb68cc69b785",
   "metadata": {},
   "outputs": [],
   "source": [
    "print(json.dumps(metrics[\"slices\"], indent=2))"
   ]
  },
  {
   "cell_type": "code",
   "execution_count": null,
   "id": "0efb6aa9-38de-4c37-b2a2-ce0e248a00da",
   "metadata": {},
   "outputs": [],
   "source": [
    "def format_probability(probabilities, index_to_class):\n",
    "    all_prob = {}\n",
    "    for i, item in enumerate(probabilities):\n",
    "        all_prob[index_to_class[i]] = item\n",
    "    return all_prob\n",
    "\n",
    "\n",
    "def predict(model, test_data, class_to_index, batch_size=32):\n",
    "  index_to_class = {v:k for k,v in class_to_index.items()}\n",
    "  test_data = preprocess(test_data, class_to_index=class_to_index)\n",
    "  test_data = tf.data.Dataset.from_tensor_slices(test_data)\n",
    "  test_data = test_data.batch(batch_size)\n",
    "  results = []\n",
    "  # Prediction(s)\n",
    "  predictions = model.predict(test_data)\n",
    "  # Logits\n",
    "  logits = predictions.logits\n",
    "\n",
    "  #index\n",
    "  for  logit in logits:\n",
    "    # Convert to probabilities\n",
    "    probabilities = tf.nn.softmax(logit, axis=-1).numpy()\n",
    "    # Get the actual class\n",
    "    indices = np.argmax(probabilities, axis=-1)\n",
    "    category = decode([indices], index_to_class)[0]\n",
    "    results.append({\"prediction\": category, \"probabilities\": format_probability(probabilities, index_to_class)})\n",
    "  return results\n",
    "\n",
    "\n",
    "def evaluate(test_ds, class_to_index):\n",
    "  test_ds = preprocess(test_ds, class_to_index=class_to_index)\n",
    "  # Get correct lable y_true\n",
    "  y_true = test_ds[1]\n",
    "\n",
    "  # Convert to tensorflow dataset\n",
    "  test_ds = tf.data.Dataset.from_tensor_slices(test_ds)\n",
    "  test_ds = test_ds.batch(batch_size)\n",
    "\n",
    "  # y_pred\n",
    "  logits = model.predict(test_ds)\n",
    "  probabilities = tf.nn.softmax(logits, axis=-1).numpy()\n",
    "  y_pred = np.argmax(probabilities, axis=-1)\n",
    "\n",
    "  # Evaluate\n",
    "  accuracy = accuracy_score(y_true, y_pred, axis=-1)\n",
    "  precision,  recall, fbeta_score = precision_recall_fscore_support(y_true, y_pred, average=\"weighted\")\n",
    "  class_report = classification_report(y_true, y_pred, target_names=index_to_class.values(), output_dict=True)\n",
    "  performance = {\"precision\": precision, \"recall\": recall, \"f1_score\": fbeta_score}\n",
    "  metrics = {\"overall\": performance, \"class\": class_report}\n",
    "  return metrics"
   ]
  },
  {
   "cell_type": "code",
   "execution_count": null,
   "id": "cbf74fc6-ca64-40d3-bb2e-e4a1e9f7c024",
   "metadata": {},
   "outputs": [],
   "source": []
  },
  {
   "cell_type": "code",
   "execution_count": null,
   "id": "f2ce0728-b425-49fa-8385-d462047b26fb",
   "metadata": {},
   "outputs": [],
   "source": []
  }
 ],
 "metadata": {
  "kernelspec": {
   "display_name": "Python 3 (ipykernel)",
   "language": "python",
   "name": "python3"
  },
  "language_info": {
   "codemirror_mode": {
    "name": "ipython",
    "version": 3
   },
   "file_extension": ".py",
   "mimetype": "text/x-python",
   "name": "python",
   "nbconvert_exporter": "python",
   "pygments_lexer": "ipython3",
   "version": "3.11.11"
  }
 },
 "nbformat": 4,
 "nbformat_minor": 5
}
